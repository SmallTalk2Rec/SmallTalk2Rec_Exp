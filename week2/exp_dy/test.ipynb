{
 "cells": [
  {
   "cell_type": "markdown",
   "metadata": {
    "vscode": {
     "languageId": "plaintext"
    }
   },
   "source": [
    "## 1. 현재까지의 연구 흐름\n",
    "### 프로젝트 목표 : 유저 선호도가 모호하다. 유저의 정보가 없다를 대화형 추천 시스템으로 해결한 영화 추천 시스템을 만들겠다.\n",
    "### 메인 베이스 논문 : 환자의 발화단계에 맞는 agent를 활용하여 필요에 맞는 기능 제공\n",
    "\n",
    "### 현재 주차 목표 : 검색, 추천 두 단계 중 선택하여 실험하여 제공"
   ]
  },
  {
   "cell_type": "markdown",
   "metadata": {},
   "source": [
    "## 2. 현재 주차에서의 연구 진행 아이디어\n",
    "- 추천 받은 영화가 만족 -> 본인의 취향과 현재 상태(감정, 컨텐츠 소비 상태)에 추천받은 영화가 만족\n",
    "- 사용자의 취향과 현재 상태를 추출하기 위한 선 발화가 필요 -> mbti 가 뭐야 오늘 기분은 어때 의 두 질문으로 선정\n",
    "- 해당 질문 답변에 따른 다른 agent or 프롬프트 수정을 통해 추천을 위한 데이터 검색\n",
    "- 예시) 특정 mbti의 사람이 특정 상태일때 어떤 특징의 영화가 좋읗지\n",
    "- target user - 한국인, 영화를 좋아하는 편(많은 영화를 봤다)\n",
    "- 데이터 DB를 chromaDB에 저장\n",
    "- self query Retriever 적용해보기"
   ]
  },
  {
   "cell_type": "markdown",
   "metadata": {},
   "source": [
    "## 00 패키지 import"
   ]
  },
  {
   "cell_type": "code",
   "execution_count": 1,
   "metadata": {},
   "outputs": [
    {
     "data": {
      "text/plain": [
       "True"
      ]
     },
     "execution_count": 1,
     "metadata": {},
     "output_type": "execute_result"
    }
   ],
   "source": [
    "import pandas as pd\n",
    "import os\n",
    "\n",
    "import chromadb\n",
    "from langchain.chat_models import ChatOpenAI\n",
    "from langchain_community.embeddings import HuggingFaceEmbeddings\n",
    "from langchain.chains import RetrievalQA\n",
    "from langchain.schema import Document\n",
    "from langchain.vectorstores import Chroma\n",
    "from langchain_core.retrievers import BaseRetriever\n",
    "from langchain import LLMChain, PromptTemplate\n",
    "\n",
    "from dotenv import load_dotenv\n",
    "\n",
    "load_dotenv()"
   ]
  },
  {
   "cell_type": "markdown",
   "metadata": {},
   "source": [
    "## 01 엑셀데이터 chromaDB 적재"
   ]
  },
  {
   "cell_type": "code",
   "execution_count": 2,
   "metadata": {},
   "outputs": [
    {
     "data": {
      "text/html": [
       "<div>\n",
       "<style scoped>\n",
       "    .dataframe tbody tr th:only-of-type {\n",
       "        vertical-align: middle;\n",
       "    }\n",
       "\n",
       "    .dataframe tbody tr th {\n",
       "        vertical-align: top;\n",
       "    }\n",
       "\n",
       "    .dataframe thead th {\n",
       "        text-align: right;\n",
       "    }\n",
       "</style>\n",
       "<table border=\"1\" class=\"dataframe\">\n",
       "  <thead>\n",
       "    <tr style=\"text-align: right;\">\n",
       "      <th></th>\n",
       "      <th>title</th>\n",
       "      <th>director</th>\n",
       "      <th>screenwriter</th>\n",
       "      <th>plot</th>\n",
       "      <th>rating</th>\n",
       "      <th>rating_count</th>\n",
       "      <th>actors</th>\n",
       "      <th>comment_ratings</th>\n",
       "      <th>comment_texts</th>\n",
       "      <th>genres</th>\n",
       "      <th>countries</th>\n",
       "      <th>running_time</th>\n",
       "      <th>adult</th>\n",
       "    </tr>\n",
       "  </thead>\n",
       "  <tbody>\n",
       "    <tr>\n",
       "      <th>0</th>\n",
       "      <td>월플라워</td>\n",
       "      <td>['스티븐 크보스키']</td>\n",
       "      <td>['스티븐 크보스키']</td>\n",
       "      <td>말 못할 트라우마를 가지고 자신만의 세계에 갇혀있던 ‘찰리’는 고등학교 신입생이 돼...</td>\n",
       "      <td>3.8</td>\n",
       "      <td>305000.0</td>\n",
       "      <td>['에즈라 밀러', '로건 메먼', '엠마 왓슨']</td>\n",
       "      <td>['4.0', '5.0', '4.0', '2.0', '4.0', '4.0', '3....</td>\n",
       "      <td>['그 터널을 무사히 빠져나온 모두에게', '사람은 자신의 크기에 맞는 사랑을 한다...</td>\n",
       "      <td>['드라마', '로맨스']</td>\n",
       "      <td>['미국']</td>\n",
       "      <td>102.0</td>\n",
       "      <td>0.0</td>\n",
       "    </tr>\n",
       "    <tr>\n",
       "      <th>1</th>\n",
       "      <td>기생충</td>\n",
       "      <td>['봉준호']</td>\n",
       "      <td>['봉준호', '한진원']</td>\n",
       "      <td>“폐 끼치고 싶진 않았어요” 전원백수로 살 길 막막하지만 사이는 좋은 기택(송강호)...</td>\n",
       "      <td>4.3</td>\n",
       "      <td>1265000.0</td>\n",
       "      <td>['박소담', '송강호', '조여정', '최우식', '이선균', '장혜진', '이정은']</td>\n",
       "      <td>['5.0', '4.5', '5.0', '0.5', '4.5', '5.0', '4....</td>\n",
       "      <td>['황금종려상 받은 영화를 자막없이 볼 수 있는 행복 190529', '상승과 하강...</td>\n",
       "      <td>['드라마']</td>\n",
       "      <td>['한국']</td>\n",
       "      <td>131.0</td>\n",
       "      <td>0.0</td>\n",
       "    </tr>\n",
       "    <tr>\n",
       "      <th>2</th>\n",
       "      <td>메멘토</td>\n",
       "      <td>['크리스토퍼 놀란']</td>\n",
       "      <td>['크리스토퍼 놀란']</td>\n",
       "      <td>아내가 살해당한 후, 10분밖에 기억 못하는 단기기억상실증에 걸린 남자가 사진, 메...</td>\n",
       "      <td>4.1</td>\n",
       "      <td>641000.0</td>\n",
       "      <td>['조 판톨리아노', '가이 피어스', '캐리 앤 모스']</td>\n",
       "      <td>['5.0', '5.0', '4.5', '5.0', '5.0', '5.0', '5....</td>\n",
       "      <td>['사람은 보고싶은 것만 보고 듣고싶은 것만 듣고 믿고 싶은 것만 믿고 기억하고 싶...</td>\n",
       "      <td>['미스터리', '스릴러']</td>\n",
       "      <td>['미국']</td>\n",
       "      <td>113.0</td>\n",
       "      <td>0.0</td>\n",
       "    </tr>\n",
       "    <tr>\n",
       "      <th>3</th>\n",
       "      <td>노인을 위한 나라는 없다</td>\n",
       "      <td>['에단 코엔', '조엘 코엔']</td>\n",
       "      <td>['에단 코엔', '조엘 코엔']</td>\n",
       "      <td>르웰린 모스(조쉬 브롤린)는 총격전이 벌어진 끔찍한 현장에서 우연히 이백만 달러가 ...</td>\n",
       "      <td>4.0</td>\n",
       "      <td>349000.0</td>\n",
       "      <td>['토미 리 존스', '하비에르 바르뎀', '조쉬 브롤린']</td>\n",
       "      <td>['5.0', '5.0', '5.0', '5.0', '3.5', '5.0', '5....</td>\n",
       "      <td>['그거 아세요? 이 영화에는 배경음악이 단 일초도 쓰이지 않았다는것', '피튀기는...</td>\n",
       "      <td>['범죄', '드라마', '스릴러']</td>\n",
       "      <td>['미국']</td>\n",
       "      <td>122.0</td>\n",
       "      <td>1.0</td>\n",
       "    </tr>\n",
       "    <tr>\n",
       "      <th>4</th>\n",
       "      <td>파이트 클럽</td>\n",
       "      <td>['데이비드 핀처']</td>\n",
       "      <td>['짐 유힐']</td>\n",
       "      <td>당신이 알고 있는 모든 것은 허구다! 비싼 가구들로 집 안을 채우지만 삶에 강한 공...</td>\n",
       "      <td>4.1</td>\n",
       "      <td>371000.0</td>\n",
       "      <td>['브래드 피트', '에드워드 노튼', '헬레나 본햄 카터']</td>\n",
       "      <td>['5.0', '5.0', '5.0', '4.5', '4.0', '5.0', '4....</td>\n",
       "      <td>['현대문명의 허상을 조롱하는 통렬한 블랙코미디.', '영화 자체가 섹시하다', '...</td>\n",
       "      <td>['드라마', '액션']</td>\n",
       "      <td>['미국', '독일', '이탈리아']</td>\n",
       "      <td>139.0</td>\n",
       "      <td>1.0</td>\n",
       "    </tr>\n",
       "  </tbody>\n",
       "</table>\n",
       "</div>"
      ],
      "text/plain": [
       "           title            director        screenwriter  \\\n",
       "0           월플라워        ['스티븐 크보스키']        ['스티븐 크보스키']   \n",
       "1            기생충             ['봉준호']      ['봉준호', '한진원']   \n",
       "2            메멘토        ['크리스토퍼 놀란']        ['크리스토퍼 놀란']   \n",
       "3  노인을 위한 나라는 없다  ['에단 코엔', '조엘 코엔']  ['에단 코엔', '조엘 코엔']   \n",
       "4         파이트 클럽         ['데이비드 핀처']            ['짐 유힐']   \n",
       "\n",
       "                                                plot  rating  rating_count  \\\n",
       "0  말 못할 트라우마를 가지고 자신만의 세계에 갇혀있던 ‘찰리’는 고등학교 신입생이 돼...     3.8      305000.0   \n",
       "1  “폐 끼치고 싶진 않았어요” 전원백수로 살 길 막막하지만 사이는 좋은 기택(송강호)...     4.3     1265000.0   \n",
       "2  아내가 살해당한 후, 10분밖에 기억 못하는 단기기억상실증에 걸린 남자가 사진, 메...     4.1      641000.0   \n",
       "3  르웰린 모스(조쉬 브롤린)는 총격전이 벌어진 끔찍한 현장에서 우연히 이백만 달러가 ...     4.0      349000.0   \n",
       "4  당신이 알고 있는 모든 것은 허구다! 비싼 가구들로 집 안을 채우지만 삶에 강한 공...     4.1      371000.0   \n",
       "\n",
       "                                              actors  \\\n",
       "0                       ['에즈라 밀러', '로건 메먼', '엠마 왓슨']   \n",
       "1  ['박소담', '송강호', '조여정', '최우식', '이선균', '장혜진', '이정은']   \n",
       "2                   ['조 판톨리아노', '가이 피어스', '캐리 앤 모스']   \n",
       "3                  ['토미 리 존스', '하비에르 바르뎀', '조쉬 브롤린']   \n",
       "4                 ['브래드 피트', '에드워드 노튼', '헬레나 본햄 카터']   \n",
       "\n",
       "                                     comment_ratings  \\\n",
       "0  ['4.0', '5.0', '4.0', '2.0', '4.0', '4.0', '3....   \n",
       "1  ['5.0', '4.5', '5.0', '0.5', '4.5', '5.0', '4....   \n",
       "2  ['5.0', '5.0', '4.5', '5.0', '5.0', '5.0', '5....   \n",
       "3  ['5.0', '5.0', '5.0', '5.0', '3.5', '5.0', '5....   \n",
       "4  ['5.0', '5.0', '5.0', '4.5', '4.0', '5.0', '4....   \n",
       "\n",
       "                                       comment_texts                genres  \\\n",
       "0  ['그 터널을 무사히 빠져나온 모두에게', '사람은 자신의 크기에 맞는 사랑을 한다...        ['드라마', '로맨스']   \n",
       "1  ['황금종려상 받은 영화를 자막없이 볼 수 있는 행복 190529', '상승과 하강...               ['드라마']   \n",
       "2  ['사람은 보고싶은 것만 보고 듣고싶은 것만 듣고 믿고 싶은 것만 믿고 기억하고 싶...       ['미스터리', '스릴러']   \n",
       "3  ['그거 아세요? 이 영화에는 배경음악이 단 일초도 쓰이지 않았다는것', '피튀기는...  ['범죄', '드라마', '스릴러']   \n",
       "4  ['현대문명의 허상을 조롱하는 통렬한 블랙코미디.', '영화 자체가 섹시하다', '...         ['드라마', '액션']   \n",
       "\n",
       "              countries  running_time  adult  \n",
       "0                ['미국']         102.0    0.0  \n",
       "1                ['한국']         131.0    0.0  \n",
       "2                ['미국']         113.0    0.0  \n",
       "3                ['미국']         122.0    1.0  \n",
       "4  ['미국', '독일', '이탈리아']         139.0    1.0  "
      ]
     },
     "execution_count": 2,
     "metadata": {},
     "output_type": "execute_result"
    }
   ],
   "source": [
    "\n",
    "df = pd.read_csv(\"../../preprocessed_movie_sample.csv\")\n",
    "df.head()"
   ]
  },
  {
   "cell_type": "code",
   "execution_count": 3,
   "metadata": {},
   "outputs": [],
   "source": [
    "# ChromaDB 클라이언트 초기화\n",
    "client = chromadb.Client()\n",
    "\n",
    "# 영화 데이터를 위한 컬렉션 생성\n",
    "collection = client.create_collection(\"movies\")"
   ]
  },
  {
   "cell_type": "code",
   "execution_count": 4,
   "metadata": {},
   "outputs": [
    {
     "data": {
      "text/plain": [
       "Index(['title', 'director', 'screenwriter', 'plot', 'rating', 'rating_count',\n",
       "       'actors', 'comment_ratings', 'comment_texts', 'genres', 'countries',\n",
       "       'running_time', 'adult'],\n",
       "      dtype='object')"
      ]
     },
     "execution_count": 4,
     "metadata": {},
     "output_type": "execute_result"
    }
   ],
   "source": [
    "df.columns"
   ]
  },
  {
   "cell_type": "code",
   "execution_count": 5,
   "metadata": {},
   "outputs": [
    {
     "name": "stderr",
     "output_type": "stream",
     "text": [
      "/var/folders/dn/qq5pnzjj1c98r1dbp_pgns1w0000gn/T/ipykernel_50432/1850178229.py:4: LangChainDeprecationWarning: The class `HuggingFaceEmbeddings` was deprecated in LangChain 0.2.2 and will be removed in 1.0. An updated version of the class exists in the :class:`~langchain-huggingface package and should be used instead. To use it run `pip install -U :class:`~langchain-huggingface` and import as `from :class:`~langchain_huggingface import HuggingFaceEmbeddings``.\n",
      "  huggingface_ef = HuggingFaceEmbeddings(\n",
      "/Users/visuworks/Documents/00_project/SmallTalk2Rec_Exp/my_env/lib/python3.10/site-packages/sentence_transformers/cross_encoder/CrossEncoder.py:13: TqdmWarning: IProgress not found. Please update jupyter and ipywidgets. See https://ipywidgets.readthedocs.io/en/stable/user_install.html\n",
      "  from tqdm.autonotebook import tqdm, trange\n"
     ]
    }
   ],
   "source": [
    "model_name = \"BAAI/bge-m3\"\n",
    "model_kwargs = {'device': 'mps'}\n",
    "encode_kwargs = {'normalize_embeddings': True}\n",
    "huggingface_ef = HuggingFaceEmbeddings(\n",
    "    model_name=model_name,\n",
    "    model_kwargs=model_kwargs,\n",
    "    encode_kwargs=encode_kwargs\n",
    ")"
   ]
  },
  {
   "cell_type": "code",
   "execution_count": 6,
   "metadata": {},
   "outputs": [],
   "source": [
    "# 임베딩 생성 \n",
    "df['plot_embedding'] = df['plot'].apply(lambda text: huggingface_ef.embed_query(text))"
   ]
  },
  {
   "cell_type": "markdown",
   "metadata": {},
   "source": [
    "### comment 점수와 코멘트로 새로운 형태로 생성 필요\n"
   ]
  },
  {
   "cell_type": "code",
   "execution_count": 7,
   "metadata": {},
   "outputs": [],
   "source": [
    "for index, row in df.iterrows():\n",
    "    collection.add(\n",
    "        documents=[row['plot']],  # 필드별 정보\n",
    "        embeddings=[row['plot_embedding']],  # 필드별 임베딩\n",
    "        metadatas=[{\n",
    "            'title': row['title'],\n",
    "            'director': row['director'],\n",
    "            'screenwriter' : row['screenwriter'],\n",
    "            'rating': row['rating'],\n",
    "            'actors': row['actors'],\n",
    "            'genres': row['genres'],\n",
    "            'countries' : row['countries'],\n",
    "            'running_time' : row['running_time'],\n",
    "            'adult' : row['adult']\n",
    "        }],\n",
    "        ids=[str(index)]  # 고유 ID 설정\n",
    "    )"
   ]
  },
  {
   "cell_type": "code",
   "execution_count": 8,
   "metadata": {},
   "outputs": [
    {
     "name": "stderr",
     "output_type": "stream",
     "text": [
      "/var/folders/dn/qq5pnzjj1c98r1dbp_pgns1w0000gn/T/ipykernel_50432/330892639.py:2: DeprecationWarning: Retrievers must implement abstract `_get_relevant_documents` method instead of `get_relevant_documents`\n",
      "  class ChromaDBRetriever(BaseRetriever):\n"
     ]
    }
   ],
   "source": [
    "### 사용 실패 - collection 할당이 인식이 안됨\n",
    "class ChromaDBRetriever(BaseRetriever):\n",
    "    def __init__(self, collection):\n",
    "        # 생성자에서 전달된 collection을 클래스 변수에 할당\n",
    "        self.collection = collection\n",
    "\n",
    "    # query를 받아서 ChromaDB에서 관련 문서들을 검색한 후 Document 리스트로 변환\n",
    "    def get_relevant_documents(self, query: str):\n",
    "        # ChromaDB에서 쿼리와 유사한 문서 검색\n",
    "        results = self.collection.query(\n",
    "            query_texts=[query],  # 사용자가 입력한 검색 쿼리\n",
    "            n_results=5  # 상위 5개의 결과 가져오기\n",
    "        )\n",
    "        \n",
    "        # 검색 결과에서 Document 객체로 변환하여 반환\n",
    "        documents = []\n",
    "        for i in range(len(results['documents'][0])):\n",
    "            doc_content = results['documents'][0][i]\n",
    "            metadata = {\n",
    "                '제목': results['metadatas'][0][i]['제목'],\n",
    "                '감독': results['metadatas'][0][i]['감독'],\n",
    "                '배우': results['metadatas'][0][i]['배우'],\n",
    "                '평점': results['metadatas'][0][i]['평점'],\n",
    "                '리뷰사이트 평점': results['metadatas'][0][i]['리뷰사이트 평점'],\n",
    "                '평점수': results['metadatas'][0][i]['평점수'],\n",
    "            }\n",
    "            documents.append(Document(page_content=doc_content, metadata=metadata))\n",
    "        \n",
    "        return documents"
   ]
  },
  {
   "cell_type": "code",
   "execution_count": 9,
   "metadata": {},
   "outputs": [
    {
     "name": "stderr",
     "output_type": "stream",
     "text": [
      "/var/folders/dn/qq5pnzjj1c98r1dbp_pgns1w0000gn/T/ipykernel_50432/2464781284.py:1: LangChainDeprecationWarning: The class `Chroma` was deprecated in LangChain 0.2.9 and will be removed in 1.0. An updated version of the class exists in the :class:`~langchain-chroma package and should be used instead. To use it run `pip install -U :class:`~langchain-chroma` and import as `from :class:`~langchain_chroma import Chroma``.\n",
      "  vectorstore = Chroma(\n"
     ]
    }
   ],
   "source": [
    "vectorstore = Chroma(\n",
    "    collection_name=\"movies\",\n",
    "    client=client,\n",
    "    embedding_function=huggingface_ef\n",
    ")"
   ]
  },
  {
   "cell_type": "code",
   "execution_count": 10,
   "metadata": {},
   "outputs": [
    {
     "name": "stderr",
     "output_type": "stream",
     "text": [
      "/var/folders/dn/qq5pnzjj1c98r1dbp_pgns1w0000gn/T/ipykernel_50432/97496504.py:2: LangChainDeprecationWarning: The class `ChatOpenAI` was deprecated in LangChain 0.0.10 and will be removed in 1.0. An updated version of the class exists in the :class:`~langchain-openai package and should be used instead. To use it run `pip install -U :class:`~langchain-openai` and import as `from :class:`~langchain_openai import ChatOpenAI``.\n",
      "  llm = ChatOpenAI(temperature=0,\n",
      "/var/folders/dn/qq5pnzjj1c98r1dbp_pgns1w0000gn/T/ipykernel_50432/97496504.py:15: LangChainDeprecationWarning: The method `Chain.__call__` was deprecated in langchain 0.1.0 and will be removed in 1.0. Use :meth:`~invoke` instead.\n",
      "  result = rag({\"query\": user_query})\n"
     ]
    },
    {
     "name": "stdout",
     "output_type": "stream",
     "text": [
      "Recommended Movies:  우울할 때는 감정에 공감할 수 있는 영화나 따뜻한 메시지를 전하는 영화를 보는 것이 좋습니다. 예를 들어, <거인>은 인간의 다층적인 연약함을 보여주면서도 공존의 가능성을 고민하는 이야기로, 감정적으로 깊이 있는 경험을 제공할 수 있습니다. 또한, <엘리멘트 시티>는 다양한 원소들이 살아가는 세계에서의 특별한 우정과 새로운 경험을 다루고 있어, 긍정적인 감정을 불러일으킬 수 있을 것입니다. 이 두 영화를 고려해 보세요.\n",
      "Source Documents:  [Document(metadata={'actors': \"['티모시 샬라메', '엘 패닝', '']\", 'adult': 0.0, 'countries': \"['미국']\", 'director': \"['우디 앨런']\", 'genres': \"['코미디', '로맨스']\", 'rating': 3.3, 'running_time': 92.0, 'screenwriter': \"['우디 앨런']\", 'title': '레이니 데이 인 뉴욕'}, page_content='상상해 봐요 막 떨어지기 시작한 빗방울 센트럴 파크 델라코트 시계 아래 누군가 당신을 기다리고 있다면... 재즈를 사랑하는 ‘개츠비’(티모시 샬라메) 영화에 푹 빠진 ‘애슐리’(엘르 패닝) 뉴욕이 좋은 ‘챈’(셀레나 고메즈) 매력적인 세 남녀가 선사하는 로맨틱 해프닝!'), Document(metadata={'actors': \"['엠마 스톤', '라이언 고슬링', '스티브 카렐']\", 'adult': 0.0, 'countries': \"['미국']\", 'director': \"['존 레쿼', '글렌 피카라']\", 'genres': \"['로맨틱 코미디', '드라마', '코미디']\", 'rating': 3.5, 'running_time': 118.0, 'screenwriter': \"['댄 포겔만']\", 'title': '크레이지 스투피브 러브'}, page_content='좋은 직장, 좋은 집, 그리고 멋진 아이들까지 모든 것이 완벽하게 이뤄져가는 삶을 산다고 생각했던 칼(스티브 카렐)은 아내 에밀리(줄리안 무어)의 이혼 선언에 모든 것이 무너지는 것을 알게 된다. 그러던 중 바에서 만난 잘 나가는 30대 제이콥(라이언 고슬링)을 만나면서 전에 없던 새로운 경험과 아내의 소중함 그리고 가족에 대해서 다시 돌아보게 되는데...'), Document(metadata={'actors': \"['최우식']\", 'adult': 0.0, 'countries': \"['한국']\", 'director': \"['김태용']\", 'genres': \"['드라마']\", 'rating': 3.7, 'running_time': 108.0, 'screenwriter': \"['김태용']\", 'title': '거인'}, page_content='[2024 문화다양성 주간 / 조해진 작가] 가난하고 비굴한 부모가 있던 집보다 보호시설이 더 편한 열일곱살 영재의 이야기. 영화는 영재를 단순한 약자로 그리지 않듯이 영재를 돕는 사람들을 한없이 선한 사람들로 묘사하지 않는다. 인간의 다층적인 연약함을 보여주면서도 공존의 가능성을 고민하기에 <거인>은 더 오래 기억되는 듯하다. *추천 대사: 왜 아무도 책임지려 하지 않는 건데? 구역질 나는 집을 나와 보호시설인 그룹홈에서 자란 열일곱 ‘영재’. 시설을 나가야 할 나이가 되었지만, 무책임한 아버지 집으로는 결코 돌아가고 싶지 않아 초조하다. 선량을 베푸는 사람들에게는 얼마든지 무릎을 꿇어주며 신부가 될 모범생처럼 살갑게 굴지만, 남몰래 후원물품을 훔쳐 팔기도 하고, 거짓말로 친구를 배신하며 하루하루 버틴다. 눈칫밥 먹으며 살기 바쁜 어느 날, ‘영재’에게 아버지가 찾아온다. 자신에게 동생마저 떠맡기려는 아버지로 인해 ‘영재’는 참을 수 없는 절망과 분노로 폭발하게 되는데… “…무능한 아버지를 죽여주시고, 못난 어머니를 벌해주시고, 이런 나를 품어주세요” 절망을 먹고 거인처럼 자란 ‘영재’가 전하는 차마 버릴 수 없는 가족, 몹시 아팠던 청춘의 이야기 <거인>'), Document(metadata={'actors': \"['로니 델 카르멘', '레아 루이스', '쉴라 옴미', '마무두 아티', '웬디 맥클렌던 커비', '캐서린 오하라', '메이슨 베르트하이머', '조 페라']\", 'adult': 0.0, 'countries': \"['미국']\", 'director': \"['피터 손']\", 'genres': \"['애니메이션', '모험', '판타지', 'SF', '로맨스']\", 'rating': 3.8, 'running_time': 109.0, 'screenwriter': \"['존 호버그', '캣 리켈', '브렌다 쉬에']\", 'title': '엘리멘탈'}, page_content=\"[2024 문화다양성 주간 / 안나 예이츠 교수]\\n이 또한 아이에게 문화다양성에 대해 가르치기에 아주 좋은 작품이라 추천합니다. 물 원소가 다수인 도시에서 불 원소가 받는 선입견, 그리고 이를 이겨내는 젊은 불 원소 앰버와 물 원소 웨이드의 사랑 이야기에는 남녀노소 다 감동받을 것 같습니다.\\n*추천 대사: “화가 치밀어오르는 게 나쁘지 않다고 생각해. 가끔씩 내가 화날 때면, 그때 나는 내 자신의 마음의 소리를 들을 준비가 되지 않았다고 보거든.”\\n\\n디즈니·픽사의 놀라운 상상력! \\n올여름, 세상이 살아 숨 쉰다 \\n\\n불, 물, 공기, 흙 4개의 원소들이 살고 있는 ‘엘리멘트 시티’. 재치 있고 불처럼 열정 넘치는 ‘앰버'는 어느 날 우연히 유쾌하고 감성적이며 물 흐르듯 사는 '웨이드'를 만나 특별한 우정을 쌓으며, 지금껏 믿어온 모든 것들이 흔들리는 새로운 경험을 하게 되는데...\\n\\n제 76회 칸 영화제 폐막작 선정!\\n<굿 다이노> 피터 손 감독 연출\\n<인사이드 아웃>, <소울> 피트 닥터 제작 참여\\n\\n6월 14일 극장 대개봉,\\n웰컴 투 ‘엘리멘트 시티’!\")]\n"
     ]
    }
   ],
   "source": [
    "# Openai에서 사용할 LLM 모델\n",
    "llm = ChatOpenAI(temperature=0, \n",
    "               model='gpt-4o-mini-2024-07-18')\n",
    "\n",
    "\n",
    "# RAG 설정: OpenAI LLM을 사용한 추천 생성\n",
    "rag = RetrievalQA.from_chain_type(\n",
    "    llm=llm,  # OpenAI LLM 사용\n",
    "    retriever=vectorstore.as_retriever(),  # ChromaDB에서 검색한 결과를 사용\n",
    "    return_source_documents=True\n",
    ")\n",
    "\n",
    "# 사용자 입력을 받아 영화 추천 생성\n",
    "def generate_movie_recommendation(user_query):\n",
    "    result = rag({\"query\": user_query})\n",
    "    return result[\"result\"], result[\"source_documents\"]\n",
    "\n",
    "# 사용자 쿼리 입력 예시\n",
    "user_query = \"오늘 우울한데 어떤 영화를 보면 좋을까\"\n",
    "recommendation, source_docs = generate_movie_recommendation(user_query)\n",
    "\n",
    "# 추천 결과 출력\n",
    "print(\"Recommended Movies: \", recommendation)\n",
    "print(\"Source Documents: \", source_docs)"
   ]
  },
  {
   "cell_type": "markdown",
   "metadata": {},
   "source": [
    "## 사용자의 MBTI와 상태를 질문을 해서 해당"
   ]
  },
  {
   "cell_type": "code",
   "execution_count": 11,
   "metadata": {},
   "outputs": [],
   "source": [
    "def user_condition(user_query):\n",
    "    user_condition = ChatOpenAI(model= 'gpt-4o-mini', temperature= 0)\n",
    "\n",
    "    usertag_prompt = \"\"\"너는 MBTI와 감정상태를 기반으로 어떤 경험을 하는 것이 좋은지 추천하는 역활이야. \n",
    "\n",
    "    user: {query}\n",
    "    answer: \"\"\"\n",
    "\n",
    "    usertag_template = PromptTemplate(\n",
    "        template  = usertag_prompt,\n",
    "        input_variables = ['query']\n",
    "    )\n",
    "\n",
    "    query_making = LLMChain(\n",
    "        llm = user_condition,\n",
    "        prompt = usertag_template\n",
    "    )\n",
    "\n",
    "    result = query_making.invoke(user_query)\n",
    "    return result['text']\n"
   ]
  },
  {
   "cell_type": "code",
   "execution_count": 12,
   "metadata": {},
   "outputs": [
    {
     "name": "stderr",
     "output_type": "stream",
     "text": [
      "/var/folders/dn/qq5pnzjj1c98r1dbp_pgns1w0000gn/T/ipykernel_50432/28203293.py:14: LangChainDeprecationWarning: The class `LLMChain` was deprecated in LangChain 0.1.17 and will be removed in 1.0. Use :meth:`~RunnableSequence, e.g., `prompt | llm`` instead.\n",
      "  query_making = LLMChain(\n"
     ]
    },
    {
     "data": {
      "text/plain": [
       "'우울한 기분을 느끼고 계시군요. ENTP 유형은 창의적이고 호기심이 많으며, 새로운 아이디어와 경험을 추구하는 경향이 있습니다. 이런 기분을 조금이나마 덜어줄 수 있는 몇 가지 활동을 추천해드릴게요.\\n\\n1. **창의적인 프로젝트 시작하기**: 새로운 아이디어를 떠올려보세요. 그림 그리기, 글쓰기, 또는 DIY 프로젝트 같은 창의적인 활동이 기분 전환에 도움이 될 수 있습니다.\\n\\n2. **토론이나 대화**: 친구나 가족과의 깊이 있는 대화를 통해 감정을 나누어 보세요. ENTP는 대화를 통해 생각을 정리하고 감정을 표현하는 데 도움이 될 수 있습니다.\\n\\n3. **산책이나 운동**: 자연 속에서의 산책이나 가벼운 운동은 기분을 전환하는 데 큰 도움이 됩니다. 신선한 공기를 마시며 생각을 정리해보세요.\\n\\n4. **새로운 정보 탐색**: 흥미로운 주제에 대해 공부하거나 다큐멘터리를 시청해보세요. 새로운 지식을 얻는 것이 기분을 좋게 할 수 있습니다.\\n\\n5. **유머와 웃음**: 코미디 영화나 유튜브 영상을 보며 웃어보세요. 유머는 기분을 전환하는 데 큰 힘이 됩니다.\\n\\n이런 활동들이 도움이 되길 바라며, 기분이 나아지길 바랍니다!'"
      ]
     },
     "execution_count": 12,
     "metadata": {},
     "output_type": "execute_result"
    }
   ],
   "source": [
    "user_condition('내 MBTI는 ENTP이고 오늘은 우울해')"
   ]
  },
  {
   "cell_type": "markdown",
   "metadata": {},
   "source": [
    "## self query 리트리버 설정"
   ]
  },
  {
   "cell_type": "code",
   "execution_count": 14,
   "metadata": {},
   "outputs": [],
   "source": [
    "from langchain.chains.query_constructor.base import AttributeInfo\n",
    "\n",
    "\n",
    "# 메타데이터 필드 정보 생성\n",
    "metadata_field_info = [\n",
    "    AttributeInfo(\n",
    "        name=\"title\",\n",
    "        description=\"The name of movie\",\n",
    "        type=\"string\",\n",
    "    ),\n",
    "    AttributeInfo(\n",
    "        name=\"director\",\n",
    "        description=\"The main diretor of movie\",\n",
    "        type=\"string\",\n",
    "    ),\n",
    "    AttributeInfo(\n",
    "        name=\"screenwriter\",\n",
    "        description=\"The main screenwriter of movie\",\n",
    "        type=\"string\",\n",
    "    ),\n",
    "        AttributeInfo(\n",
    "        name=\"rating\",\n",
    "        description=\"The score of movie\",\n",
    "        type=\"float\",\n",
    "    ),\n",
    "            AttributeInfo(\n",
    "        name=\"rating\",\n",
    "        description=\"The score of movie\",\n",
    "        type=\"float\",\n",
    "    ),\n",
    "]"
   ]
  },
  {
   "cell_type": "code",
   "execution_count": 15,
   "metadata": {},
   "outputs": [],
   "source": [
    "from langchain.retrievers.self_query.base import SelfQueryRetriever\n",
    "\n",
    "# LLM 정의\n",
    "llm = ChatOpenAI(model=\"gpt-4o-mini\", temperature=0)\n",
    "\n",
    "# SelfQueryRetriever 생성\n",
    "retriever = SelfQueryRetriever.from_llm(\n",
    "    llm=llm,\n",
    "    vectorstore=vectorstore,\n",
    "    document_contents=\"story of movie\",\n",
    "    metadata_field_info=metadata_field_info,\n",
    ")"
   ]
  },
  {
   "cell_type": "code",
   "execution_count": 16,
   "metadata": {},
   "outputs": [
    {
     "data": {
      "text/plain": [
       "[]"
      ]
     },
     "execution_count": 16,
     "metadata": {},
     "output_type": "execute_result"
    }
   ],
   "source": [
    "retriever.invoke(\"평점이 4.8 이상인 제품을 추천해주세요\")\n"
   ]
  }
 ],
 "metadata": {
  "kernelspec": {
   "display_name": "my_env",
   "language": "python",
   "name": "python3"
  },
  "language_info": {
   "codemirror_mode": {
    "name": "ipython",
    "version": 3
   },
   "file_extension": ".py",
   "mimetype": "text/x-python",
   "name": "python",
   "nbconvert_exporter": "python",
   "pygments_lexer": "ipython3",
   "version": "3.10.8"
  }
 },
 "nbformat": 4,
 "nbformat_minor": 2
}
