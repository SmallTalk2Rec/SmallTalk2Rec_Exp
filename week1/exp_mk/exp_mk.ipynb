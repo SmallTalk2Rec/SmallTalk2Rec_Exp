{
 "cells": [
  {
   "cell_type": "markdown",
   "metadata": {},
   "source": [
    "# 데이터 로드"
   ]
  },
  {
   "cell_type": "code",
   "execution_count": 1,
   "metadata": {},
   "outputs": [
    {
     "name": "stdout",
     "output_type": "stream",
     "text": [
      "(30, 14)\n"
     ]
    },
    {
     "data": {
      "text/html": [
       "<div>\n",
       "<style scoped>\n",
       "    .dataframe tbody tr th:only-of-type {\n",
       "        vertical-align: middle;\n",
       "    }\n",
       "\n",
       "    .dataframe tbody tr th {\n",
       "        vertical-align: top;\n",
       "    }\n",
       "\n",
       "    .dataframe thead th {\n",
       "        text-align: right;\n",
       "    }\n",
       "</style>\n",
       "<table border=\"1\" class=\"dataframe\">\n",
       "  <thead>\n",
       "    <tr style=\"text-align: right;\">\n",
       "      <th></th>\n",
       "      <th>영화제목</th>\n",
       "      <th>영화 감독</th>\n",
       "      <th>각본(|| parser)</th>\n",
       "      <th>왓챠 줄거리</th>\n",
       "      <th>왓챠피디아 평점</th>\n",
       "      <th>왓챠피디아 평점 수 (명)</th>\n",
       "      <th>주연 (|| parser)</th>\n",
       "      <th>코멘트 10개 평점 (|| parser)</th>\n",
       "      <th>코멘트 10개 멘트 (|| parser)</th>\n",
       "      <th>장르</th>\n",
       "      <th>제작 국가(|| parser)</th>\n",
       "      <th>네이버 누적 관객 수(만명)</th>\n",
       "      <th>네이버 러닝 타임(분)</th>\n",
       "      <th>네이버 19세 여부 (1 or 0)</th>\n",
       "    </tr>\n",
       "  </thead>\n",
       "  <tbody>\n",
       "    <tr>\n",
       "      <th>0</th>\n",
       "      <td>월플라워</td>\n",
       "      <td>스티븐 크보스키</td>\n",
       "      <td>스티븐 크보스키</td>\n",
       "      <td>말 못할 트라우마를 가지고 자신만의 세계에 갇혀있던 ‘찰리’는 고등학교 신입생이 돼...</td>\n",
       "      <td>3.8</td>\n",
       "      <td>305000.0</td>\n",
       "      <td>에즈라 밀러||로건 메먼||엠마 왓슨</td>\n",
       "      <td>4.0||5.0||4.0||2.0||4.0||4.0||3.5||4.5||3.5||4.5</td>\n",
       "      <td>그 터널을 무사히 빠져나온 모두에게||사람은 자신의 크기에 맞는 사랑을 한다||샘이...</td>\n",
       "      <td>드라마/로맨스</td>\n",
       "      <td>미국</td>\n",
       "      <td>1.7</td>\n",
       "      <td>102.0</td>\n",
       "      <td>0.0</td>\n",
       "    </tr>\n",
       "    <tr>\n",
       "      <th>1</th>\n",
       "      <td>기생충</td>\n",
       "      <td>봉준호</td>\n",
       "      <td>봉준호||한진원</td>\n",
       "      <td>“폐 끼치고 싶진 않았어요” 전원백수로 살 길 막막하지만 사이는 좋은 기택(송강호)...</td>\n",
       "      <td>4.3</td>\n",
       "      <td>1265000.0</td>\n",
       "      <td>박소담||송강호||조여정||최우식||이선균||장혜진||이정은</td>\n",
       "      <td>5.0||4.5||5.0||0.5||4.5||5.0||4.0||5.0||5.0||5.0</td>\n",
       "      <td>황금종려상 받은 영화를 자막없이 볼 수 있는 행복 190529||상승과 하강으로 명...</td>\n",
       "      <td>드라마</td>\n",
       "      <td>한국</td>\n",
       "      <td>1031.0</td>\n",
       "      <td>131.0</td>\n",
       "      <td>0.0</td>\n",
       "    </tr>\n",
       "    <tr>\n",
       "      <th>2</th>\n",
       "      <td>메멘토</td>\n",
       "      <td>크리스토퍼 놀란</td>\n",
       "      <td>크리스토퍼 놀란</td>\n",
       "      <td>아내가 살해당한 후, 10분밖에 기억 못하는 단기기억상실증에 걸린 남자가 사진, 메...</td>\n",
       "      <td>4.1</td>\n",
       "      <td>641000.0</td>\n",
       "      <td>조 판톨리아노||가이 피어스||캐리 앤 모스</td>\n",
       "      <td>5.0||5.0||4.5||5.0||5.0||5.0||5.0||4.0||5.0||4.0</td>\n",
       "      <td>사람은 보고싶은 것만 보고 듣고싶은 것만 듣고 믿고 싶은 것만 믿고 기억하고 싶은 ...</td>\n",
       "      <td>미스터리/스릴러</td>\n",
       "      <td>미국</td>\n",
       "      <td>19.0</td>\n",
       "      <td>113.0</td>\n",
       "      <td>0.0</td>\n",
       "    </tr>\n",
       "    <tr>\n",
       "      <th>3</th>\n",
       "      <td>노인을 위한 나라는 없다</td>\n",
       "      <td>에단 코엔||조엘 코엔</td>\n",
       "      <td>에단 코엔||조엘 코엔</td>\n",
       "      <td>르웰린 모스(조쉬 브롤린)는 총격전이 벌어진 끔찍한 현장에서 우연히 이백만 달러가 ...</td>\n",
       "      <td>4.0</td>\n",
       "      <td>349000.0</td>\n",
       "      <td>토미 리 존스||하비에르 바르뎀||조쉬 브롤린</td>\n",
       "      <td>5.0||5.0||5.0||5.0||3.5||5.0||5.0||4.5||5.0||5.0</td>\n",
       "      <td>그거 아세요? 이 영화에는 배경음악이 단 일초도 쓰이지 않았다는것||피튀기는 젊은 ...</td>\n",
       "      <td>범죄/드라마/스릴러</td>\n",
       "      <td>미국</td>\n",
       "      <td>9.0</td>\n",
       "      <td>122.0</td>\n",
       "      <td>1.0</td>\n",
       "    </tr>\n",
       "    <tr>\n",
       "      <th>5</th>\n",
       "      <td>박화영</td>\n",
       "      <td>이환</td>\n",
       "      <td>이환</td>\n",
       "      <td>“니들은 나 없으면 어쩔 뻔 봤냐?” 이름: 박화영 나이: 18 직업: 고등학생 가...</td>\n",
       "      <td>3.3</td>\n",
       "      <td>142000.0</td>\n",
       "      <td>김가희||강민아||이재균</td>\n",
       "      <td>3.0||3.0||3.0||3.0||4.5||2.5||3.5||3.0||3.0||2.5</td>\n",
       "      <td>자극적인 장면들을 자꾸 나열한다고 해서 메시지가 더 잘 전달되는 건 아닌데..||불...</td>\n",
       "      <td>드라마</td>\n",
       "      <td>한국</td>\n",
       "      <td>0.6</td>\n",
       "      <td>112.0</td>\n",
       "      <td>1.0</td>\n",
       "    </tr>\n",
       "  </tbody>\n",
       "</table>\n",
       "</div>"
      ],
      "text/plain": [
       "            영화제목         영화 감독 각본(|| parser)  \\\n",
       "0           월플라워      스티븐 크보스키      스티븐 크보스키   \n",
       "1            기생충           봉준호      봉준호||한진원   \n",
       "2            메멘토      크리스토퍼 놀란      크리스토퍼 놀란   \n",
       "3  노인을 위한 나라는 없다  에단 코엔||조엘 코엔  에단 코엔||조엘 코엔   \n",
       "5            박화영            이환            이환   \n",
       "\n",
       "                                              왓챠 줄거리  왓챠피디아 평점  \\\n",
       "0  말 못할 트라우마를 가지고 자신만의 세계에 갇혀있던 ‘찰리’는 고등학교 신입생이 돼...       3.8   \n",
       "1  “폐 끼치고 싶진 않았어요” 전원백수로 살 길 막막하지만 사이는 좋은 기택(송강호)...       4.3   \n",
       "2  아내가 살해당한 후, 10분밖에 기억 못하는 단기기억상실증에 걸린 남자가 사진, 메...       4.1   \n",
       "3  르웰린 모스(조쉬 브롤린)는 총격전이 벌어진 끔찍한 현장에서 우연히 이백만 달러가 ...       4.0   \n",
       "5  “니들은 나 없으면 어쩔 뻔 봤냐?” 이름: 박화영 나이: 18 직업: 고등학생 가...       3.3   \n",
       "\n",
       "   왓챠피디아 평점 수 (명)                     주연 (|| parser)  \\\n",
       "0        305000.0               에즈라 밀러||로건 메먼||엠마 왓슨   \n",
       "1       1265000.0  박소담||송강호||조여정||최우식||이선균||장혜진||이정은   \n",
       "2        641000.0           조 판톨리아노||가이 피어스||캐리 앤 모스   \n",
       "3        349000.0          토미 리 존스||하비에르 바르뎀||조쉬 브롤린   \n",
       "5        142000.0                      김가희||강민아||이재균   \n",
       "\n",
       "                             코멘트 10개 평점 (|| parser)  \\\n",
       "0  4.0||5.0||4.0||2.0||4.0||4.0||3.5||4.5||3.5||4.5   \n",
       "1  5.0||4.5||5.0||0.5||4.5||5.0||4.0||5.0||5.0||5.0   \n",
       "2  5.0||5.0||4.5||5.0||5.0||5.0||5.0||4.0||5.0||4.0   \n",
       "3  5.0||5.0||5.0||5.0||3.5||5.0||5.0||4.5||5.0||5.0   \n",
       "5  3.0||3.0||3.0||3.0||4.5||2.5||3.5||3.0||3.0||2.5   \n",
       "\n",
       "                              코멘트 10개 멘트 (|| parser)          장르  \\\n",
       "0  그 터널을 무사히 빠져나온 모두에게||사람은 자신의 크기에 맞는 사랑을 한다||샘이...     드라마/로맨스   \n",
       "1  황금종려상 받은 영화를 자막없이 볼 수 있는 행복 190529||상승과 하강으로 명...         드라마   \n",
       "2  사람은 보고싶은 것만 보고 듣고싶은 것만 듣고 믿고 싶은 것만 믿고 기억하고 싶은 ...    미스터리/스릴러   \n",
       "3  그거 아세요? 이 영화에는 배경음악이 단 일초도 쓰이지 않았다는것||피튀기는 젊은 ...  범죄/드라마/스릴러   \n",
       "5  자극적인 장면들을 자꾸 나열한다고 해서 메시지가 더 잘 전달되는 건 아닌데..||불...         드라마   \n",
       "\n",
       "  제작 국가(|| parser)  네이버 누적 관객 수(만명)  네이버 러닝 타임(분)  네이버 19세 여부 (1 or 0)  \n",
       "0               미국              1.7         102.0                  0.0  \n",
       "1               한국           1031.0         131.0                  0.0  \n",
       "2               미국             19.0         113.0                  0.0  \n",
       "3               미국              9.0         122.0                  1.0  \n",
       "5               한국              0.6         112.0                  1.0  "
      ]
     },
     "execution_count": 1,
     "metadata": {},
     "output_type": "execute_result"
    }
   ],
   "source": [
    "import pandas as pd\n",
    "\n",
    "df = pd.read_csv('./movie_infos.csv')\n",
    "df = df.dropna()\n",
    "\n",
    "print(df.shape)\n",
    "df.head()"
   ]
  },
  {
   "cell_type": "code",
   "execution_count": 4,
   "metadata": {},
   "outputs": [],
   "source": [
    "import pickle\n",
    "\n",
    "with open('../../crawling\\data\\movie_infos_241017.pkl', 'rb') as f:  # 'rb'는 read binary의 약자\n",
    "    movie_infos = pickle.load(f)"
   ]
  },
  {
   "cell_type": "code",
   "execution_count": 5,
   "metadata": {},
   "outputs": [
    {
     "name": "stdout",
     "output_type": "stream",
     "text": [
      "['쇼생크 탈출', '인턴', '글로리 로드', '올드 가드', '돈 룩 업', '머니볼', '레블 리지', '청년경찰', '범죄도시3', '더 퍼스트 슬램덩크', '탈주', '듄: 파트2', '파일럿', '그녀가 죽었다', '파묘', '웡카', '아가일', '레이니 데이 인 뉴욕', '혹성탈출: 새로운 시대', '콰이어트 플레이스: 첫째 날']\n",
      "20\n"
     ]
    }
   ],
   "source": [
    "print(list(movie_infos.keys()))\n",
    "print(len(list(movie_infos.keys())))"
   ]
  },
  {
   "cell_type": "code",
   "execution_count": 8,
   "metadata": {},
   "outputs": [
    {
     "name": "stdout",
     "output_type": "stream",
     "text": [
      "\n",
      "    *** 왓챠 추출 ***\n",
      "    movie_name : 검색한 영화 제목 (str)\n",
      "    movie_id : 왓챠 영화 id (str)\n",
      "    title : 왓챠 영화 제목 (str)\n",
      "    synopsis : 영화 요약 소개\n",
      "    year : 연도 (str)\n",
      "    genre : 장르 (str)\n",
      "    country : 국가 (str)\n",
      "    runtime : 상영시간 (str)\n",
      "    age : 제한연령 (str) , 전체이용가는 12세로 처리\n",
      "    main_cast : 주연 (list)\n",
      "    sup_cast : 조연 (list)\n",
      "    avg_rating : 평균평점 (str)\n",
      "    avg_rating_n : 평점수 (str)\n",
      "    comments : 커멘트 (list), [Dict{유저이름, 평점, 좋아요 수, 이유, 답글 수}, Dict, ...]\n",
      "    \n",
      "    *** 네이버 추출 ***\n",
      "    total_audience : 총 관객수 , 만명단위 , 영화진흥위원회 통합 전산망 데이터로 업데이트 되고 있다고 함. 2005년도 전은 없음.\n",
      "    channel : 상영된 OTT\n",
      "    \n",
      "    *** 위치 추출 ***\n",
      "    writer: 각본\n",
      "    producer: 제작\n",
      "    dp: 촬영\n",
      "    original_story: 원작\n",
      "    editor: 편집\n",
      "    music_director: 음악\n",
      "    production_company: 제작사\n",
      "    distribution_company: 배급사\n",
      "    production_budget: 제작비\n",
      "    box_office_revenue: 흥행수익\n",
      "    language: 언어\n",
      "    \n"
     ]
    }
   ],
   "source": [
    "print(movie_infos['쇼생크 탈출']['describe']) "
   ]
  },
  {
   "cell_type": "markdown",
   "metadata": {},
   "source": [
    "# OpenAI 셋팅"
   ]
  },
  {
   "cell_type": "code",
   "execution_count": 72,
   "metadata": {},
   "outputs": [],
   "source": [
    "import os\n",
    "from dotenv import load_dotenv\n",
    "\n",
    "# .env 파일의 환경 변수 로드\n",
    "load_dotenv()\n",
    "\n",
    "# 환경 변수 가져오기\n",
    "openai_api_key = os.getenv(\"OPENAI_API_KEY\")\n",
    "\n",
    "from langchain.prompts import PromptTemplate\n",
    "from langchain_openai import ChatOpenAI\n",
    "\n",
    "# OpenAI LLM을 이용한 LangChain 구성\n",
    "llm = ChatOpenAI(api_key=openai_api_key,\n",
    "                 temperature=0.0, \n",
    "                 model='gpt-4o-mini')"
   ]
  },
  {
   "cell_type": "code",
   "execution_count": 38,
   "metadata": {},
   "outputs": [],
   "source": [
    "prompt = \"\"\"당신은 영화 선호도 평가자입니다. 사용자가 특정 영화에 대해 좋은 점과 싫은 점을 이야기할 것입니다. \n",
    "이를 바탕으로 사용자의 선호도를 평가하고, 다음 형식에 맞춰 결과를 반환하세요:\n",
    "\n",
    "JSON 객체는 다음 필드를 포함해야 합니다:\n",
    "movie_title: 사용자 입력에 기반한 영화 제목.\n",
    "preference_score: 사용자가 영화를 얼마나 선호하는지를 1에서 10까지의 척도로 나타낸 숫자 점수.\n",
    "likes: 사용자가 영화를 좋아하는 이유.\n",
    "dislikes: 사용자가 영화를 싫어하는 이유.\n",
    "\n",
    "사용자 입력: {query}\n",
    "JSON 객체:\n",
    "\"\"\"\n",
    "\n",
    "prompt_template = PromptTemplate(template=prompt, input_variables=[\"query\"])\n"
   ]
  },
  {
   "cell_type": "code",
   "execution_count": 39,
   "metadata": {},
   "outputs": [],
   "source": [
    "# 유저한테 좋은 영화와 싫은 영화를 물어보고, 각각 그 이유를 물어봤다는 가정"
   ]
  },
  {
   "cell_type": "code",
   "execution_count": 40,
   "metadata": {},
   "outputs": [],
   "source": [
    "preference_eliction_chain = prompt_template | llm\n",
    "result_json1 = preference_eliction_chain.invoke({\"query\":\"어바웃타임에서 아버지와 아들이 시간에 대해서 이야기하는 장면과 나중에 아들(주인공)이 더 이상 시간 여행을 하지 않고 현재에 살아간다는 점이 너무 인상깊었고, 또 로맨스적인 요소도 너무 좋았어\"}).content"
   ]
  },
  {
   "cell_type": "code",
   "execution_count": 41,
   "metadata": {},
   "outputs": [
    {
     "data": {
      "text/plain": [
       "'```json\\n{\\n  \"movie_title\": \"어바웃타임\",\\n  \"preference_score\": 9,\\n  \"likes\": [\\n    \"아버지와 아들이 시간에 대해 이야기하는 장면이 인상적이다.\",\\n    \"주인공이 더 이상 시간 여행을 하지 않고 현재에 살아가는 점이 감동적이다.\",\\n    \"로맨스적인 요소가 좋았다.\"\\n  ],\\n  \"dislikes\": []\\n}\\n```'"
      ]
     },
     "execution_count": 41,
     "metadata": {},
     "output_type": "execute_result"
    }
   ],
   "source": [
    "result_json1"
   ]
  },
  {
   "cell_type": "code",
   "execution_count": 42,
   "metadata": {},
   "outputs": [],
   "source": [
    "preference_eliction_chain = prompt_template | llm\n",
    "result_json2 = preference_eliction_chain.invoke({\"query\":\"베테랑2에서 좋았던 점은 정해인 배우의 액션이 인상 깊었어. 굉장히 빠르게 진행되어서 좋았고 타격이 아닌 그라운드 기술이 중점이 된 액션이라 신선했어. 다만 스토리가 너무 허술해서 아쉬웠고, 특히 마지막 엔딩은 갑자기 끝난 느낌? 결말이 전혀 매력적으로 느껴지지 않았어\"}).content"
   ]
  },
  {
   "cell_type": "code",
   "execution_count": 43,
   "metadata": {},
   "outputs": [
    {
     "data": {
      "text/plain": [
       "'```json\\n{\\n  \"movie_title\": \"베테랑2\",\\n  \"preference_score\": 6,\\n  \"likes\": [\\n    \"정해인 배우의 인상 깊은 액션\",\\n    \"빠른 진행\",\\n    \"신선한 그라운드 기술 중심의 액션\"\\n  ],\\n  \"dislikes\": [\\n    \"허술한 스토리\",\\n    \"갑작스러운 엔딩\",\\n    \"매력 없는 결말\"\\n  ]\\n}\\n```'"
      ]
     },
     "execution_count": 43,
     "metadata": {},
     "output_type": "execute_result"
    }
   ],
   "source": [
    "result_json2"
   ]
  },
  {
   "cell_type": "code",
   "execution_count": 26,
   "metadata": {},
   "outputs": [],
   "source": [
    "# 영화 리뷰에서 좋은 점과 싫은 점 추출"
   ]
  },
  {
   "cell_type": "code",
   "execution_count": 56,
   "metadata": {},
   "outputs": [],
   "source": [
    "prompt = \"\"\"당신은 영화 리뷰 분석가입니다. 주어진 영화에 대한 사람들의 리뷰를 분석하여 그 영화의 좋은 점과 나쁜 점을 추출하세요.\n",
    "결과는 다음 형식에 맞춰 JSON 객체로 반환되어야 합니다:\n",
    "\n",
    "JSON 객체는 다음 필드를 포함해야 합니다:\n",
    "movie_title: 사용자 입력에 기반한 영화 제목.\n",
    "preference_score: 리뷰에서 추출한 영화의 전반적인 선호도를 1에서 10까지의 척도로 나타낸 숫자 점수.\n",
    "likes: 리뷰에서 추출한 영화의 좋은 점.\n",
    "dislikes: 리뷰에서 추출한 영화의 나쁜 점.\n",
    "\n",
    "영화제목 : {title}\n",
    "사용자 입력(리뷰): {reviews}\n",
    "JSON 객체:\n",
    "\"\"\"\n",
    "\n",
    "prompt_template2 = PromptTemplate(template=prompt, input_variables=[\"query\"])"
   ]
  },
  {
   "cell_type": "code",
   "execution_count": 58,
   "metadata": {},
   "outputs": [],
   "source": [
    "# 월 플라워 \n",
    "wallflower = df.iloc[0]\n",
    "\n",
    "reviews = wallflower['코멘트 10개 멘트 (|| parser)']"
   ]
  },
  {
   "cell_type": "code",
   "execution_count": 59,
   "metadata": {},
   "outputs": [
    {
     "data": {
      "text/plain": [
       "'그 터널을 무사히 빠져나온 모두에게\\n사람은 자신의 크기에 맞는 사랑을 한다\\n샘이라는 여자가 내 인생에 있다면, 나는 내인생을 통째로 그녀에게 헌납하고 싶다. \\n패트릭이라는 친구가 내 인생에 있다면,  그와같은 열정으로 살고 싶다.\\n나의십대가 6개월남은 이시점에서 보기싫은 영화야 왜냐하면 난 이런추억도 친구도 재미도없어서 질투만나고 초라해지거든 그래서 난 이영화가싫어 비교되고 억울하고 화가나\\n본인들의 상처가 무엇인지도 모르는 한국의 청소년들에게.\\n\"Right now, we are alive. And in this moment, I swear, we are infinite.\"\\n청춘이란, 벽(Wall)을 아프게 뚫고 나와 피는 꽃(Flower)과 같은 것.\\n월플라워들은 자신이 벽(wall)이라고 생각하며, 꽃(flower)이라는 사실을 잊어버린다. 스스로 낙서 당하고 침뱉음 당할 만한 존재라 생각하지만 사실 모두가 소중한 한떨기 꽃.\\n사랑하는 이들과의 관계 속에서 성장하며 외적 억압과 내면의 상처를 극복하는, 그리고 결국엔 행복해지고야 마는 청춘.\\nWhy do nice people choose the wrong people to date? We accept the love we think we deserve. \\n\\nHeroes! We are infinite.'"
      ]
     },
     "execution_count": 59,
     "metadata": {},
     "output_type": "execute_result"
    }
   ],
   "source": [
    "\"\\n\".join(reviews.split('||'))"
   ]
  },
  {
   "cell_type": "code",
   "execution_count": 60,
   "metadata": {},
   "outputs": [],
   "source": [
    "preference_eliction_chain2 = prompt_template2 | llm\n",
    "result_json3 = preference_eliction_chain2.invoke({\"title\":\"월 플라워\", \"reviews\":\"\\n\".join(reviews.split('||'))}).content"
   ]
  },
  {
   "cell_type": "code",
   "execution_count": 61,
   "metadata": {},
   "outputs": [
    {
     "data": {
      "text/plain": [
       "'```json\\n{\\n  \"movie_title\": \"월 플라워\",\\n  \"preference_score\": 7,\\n  \"likes\": [\\n    \"감정적으로 깊이 있는 이야기\",\\n    \"청춘의 성장과 사랑에 대한 진솔한 묘사\",\\n    \"주인공들의 관계를 통해 보여주는 우정과 사랑의 중요성\",\\n    \"강렬한 인용구와 메시지\",\\n    \"자신의 상처를 극복하는 과정에 대한 공감\"\\n  ],\\n  \"dislikes\": [\\n    \"자신의 과거와 비교하게 만드는 요소\",\\n    \"청소년들에게 상처를 주는 내용\",\\n    \"일부 관객에게는 공감하기 어려운 주제\",\\n    \"어두운 감정과 질투를 불러일으킬 수 있음\"\\n  ]\\n}\\n```'"
      ]
     },
     "execution_count": 61,
     "metadata": {},
     "output_type": "execute_result"
    }
   ],
   "source": [
    "result_json3"
   ]
  },
  {
   "cell_type": "code",
   "execution_count": 62,
   "metadata": {},
   "outputs": [],
   "source": [
    "The_Shawshank_Redemption = movie_infos['쇼생크 탈출']\n",
    "reviews = The_Shawshank_Redemption['comments']"
   ]
  },
  {
   "cell_type": "code",
   "execution_count": 63,
   "metadata": {},
   "outputs": [
    {
     "data": {
      "text/plain": [
       "'이 영화 때문에 내가 평가한 다른 영화들의 평점을 하나씩 내려야만 하는 참사가 일어났다\\n길들여지지 않는 희망 그 불변의 아름다움에 대하여\\n빗물, 얼마나 달까\\n어떤 인생은 영화가 되고\\n어떤 영화는 삶을 살게한다\\n나를 가둔건 환경이 아니다.\\n나의 의지인것이다!\\n아마도 아직도 앞으로도 나 뿐만 아니라 많은 영화를 사랑하는 이에게 오래 남을 영화 \\n\\n어찌 볼때마다 이렇게 감동적이고 재미질까\\n맥주보다 시원한 자유 아래 빗줄기\\n한 술 두 술 찬찬히 떠올린 희망의 달콤하기 그지없는 끝 맛\\n애초부터 가둘 수 없었던 그\\n우울하거나 삶이 무료할 때마다 한번씩 다시 본다. 좋은 것은 절대 사라지지 않는다니. 너무 매력적인 말이다. 뭐든 열심히 하고 싶어지게 하는.'"
      ]
     },
     "execution_count": 63,
     "metadata": {},
     "output_type": "execute_result"
    }
   ],
   "source": [
    "\"\\n\".join([review['comment'] for review in reviews])"
   ]
  },
  {
   "cell_type": "code",
   "execution_count": 64,
   "metadata": {},
   "outputs": [],
   "source": [
    "preference_eliction_chain2 = prompt_template2 | llm\n",
    "result_json4 = preference_eliction_chain2.invoke({\"title\":\"쇼생크 탈출\", \"reviews\":\"\\n\".join([review['comment'] for review in reviews])}).content"
   ]
  },
  {
   "cell_type": "code",
   "execution_count": 65,
   "metadata": {},
   "outputs": [
    {
     "data": {
      "text/plain": [
       "'```json\\n{\\n  \"movie_title\": \"쇼생크 탈출\",\\n  \"preference_score\": 10,\\n  \"likes\": [\\n    \"영화가 감동적이고 재미있다\",\\n    \"희망의 메시지가 아름답다\",\\n    \"인생에 대한 깊은 통찰을 제공한다\",\\n    \"자유와 희망을 느끼게 해준다\",\\n    \"다시 보고 싶어지는 매력이 있다\"\\n  ],\\n  \"dislikes\": []\\n}\\n```'"
      ]
     },
     "execution_count": 65,
     "metadata": {},
     "output_type": "execute_result"
    }
   ],
   "source": [
    "result_json4"
   ]
  },
  {
   "cell_type": "code",
   "execution_count": null,
   "metadata": {},
   "outputs": [],
   "source": [
    "# 유저가 어떤 영화를 좋아했던 이유와 싫어헀던 이유 <-> 특정 영화에서 사람들이 좋아했던 이유와 싫어했던 이유 , 비교"
   ]
  },
  {
   "cell_type": "code",
   "execution_count": 69,
   "metadata": {},
   "outputs": [],
   "source": [
    "prompt = \"\"\"당신은 영화 추천 전문가입니다. 사용자가 특정 영화에 대해 좋아하는 이유와 싫어하는 이유를 제공할 것입니다.\n",
    "이를 바탕으로, 사람들이 평가한 다른 영화의 좋은 점과 싫은 점을 참고하여 사용자가 좋아할만한 영화를 추천하세요.\n",
    "\n",
    "추천 결과는 다음 형식에 맞춰야 합니다:\n",
    "\n",
    "JSON 객체는 다음 필드를 포함해야 합니다:\n",
    "recommended_movies: 사용자가 좋아할 만한 영화 목록 (최대1개).\n",
    "reason_for_recommendation: 각 추천 영화가 사용자에게 적합한 이유.\n",
    "\n",
    "사용자 입력(좋아하는 이유와 싫어하는 이유): {query}\n",
    "다른 사람들이 평가한 정보 (각 영화가 좋은 이유와 싫은 이유): {reviews}\n",
    "JSON 객체:\n",
    "\"\"\"\n",
    "\n",
    "prompt_template = PromptTemplate(template=prompt, input_variables=[\"query\"])\n"
   ]
  },
  {
   "cell_type": "code",
   "execution_count": 70,
   "metadata": {},
   "outputs": [],
   "source": [
    "rec_chain = prompt_template | llm\n",
    "result_json4 = rec_chain.invoke({\"query\":result_json1+result_json2, \"reviews\": result_json3 + result_json4}).content"
   ]
  },
  {
   "cell_type": "code",
   "execution_count": 71,
   "metadata": {},
   "outputs": [
    {
     "data": {
      "text/plain": [
       "'```json\\n{\\n  \"recommended_movies\": [\\n    {\\n      \"title\": \"월 플라워\",\\n      \"reason_for_recommendation\": \"이 영화는 감정적으로 깊이 있는 이야기와 청춘의 성장, 사랑에 대한 진솔한 묘사를 통해 아버지와 아들이 나누는 대화의 감동과 유사한 감정을 불러일으킬 수 있습니다. 또한, 주인공들의 관계를 통해 보여주는 우정과 사랑의 중요성은 \\'어바웃타임\\'의 로맨스적인 요소와 잘 어울립니다.\"\\n    }\\n  ]\\n}\\n```'"
      ]
     },
     "execution_count": 71,
     "metadata": {},
     "output_type": "execute_result"
    }
   ],
   "source": [
    "result_json4"
   ]
  },
  {
   "cell_type": "markdown",
   "metadata": {},
   "source": [
    "# 정리, n 늘려보기"
   ]
  },
  {
   "cell_type": "code",
   "execution_count": 73,
   "metadata": {},
   "outputs": [],
   "source": [
    "import os\n",
    "from dotenv import load_dotenv\n",
    "\n",
    "# .env 파일의 환경 변수 로드\n",
    "load_dotenv()\n",
    "\n",
    "# 환경 변수 가져오기\n",
    "openai_api_key = os.getenv(\"OPENAI_API_KEY\")\n",
    "\n",
    "from langchain.prompts import PromptTemplate\n",
    "from langchain_openai import ChatOpenAI\n",
    "\n",
    "# OpenAI LLM을 이용한 LangChain 구성\n",
    "llm = ChatOpenAI(api_key=openai_api_key,\n",
    "                 temperature=0.0, \n",
    "                 model='gpt-4o-mini')"
   ]
  },
  {
   "cell_type": "markdown",
   "metadata": {},
   "source": [
    "## 사용자로부터 취향 추출하기 \n",
    "> Q: 기억나는 영화와 그 영화의 좋은 점과 싫은 점을 이야기해줘"
   ]
  },
  {
   "cell_type": "code",
   "execution_count": 75,
   "metadata": {},
   "outputs": [],
   "source": [
    "prompt = \"\"\"당신은 영화 선호도 평가자입니다. 사용자가 특정 영화에 대해 좋은 점과 싫은 점을 이야기할 것입니다. \n",
    "이를 바탕으로 사용자의 선호도를 평가하고, 다음 형식에 맞춰 결과를 반환하세요:\n",
    "\n",
    "JSON 객체는 다음 필드를 포함해야 합니다:\n",
    "movie_title: 사용자 입력에 기반한 영화 제목.\n",
    "preference_score: 사용자가 영화를 얼마나 선호하는지를 1에서 10까지의 척도로 나타낸 숫자 점수.\n",
    "likes: 사용자가 영화를 좋아하는 이유.\n",
    "dislikes: 사용자가 영화를 싫어하는 이유.\n",
    "\n",
    "사용자 입력: {query}\n",
    "JSON 객체:\n",
    "\"\"\"\n",
    "\n",
    "prompt_template = PromptTemplate(template=prompt, input_variables=[\"query\"])\n",
    "preference_eliction_chain = prompt_template | llm"
   ]
  },
  {
   "cell_type": "code",
   "execution_count": 77,
   "metadata": {},
   "outputs": [],
   "source": [
    "result_json1 = preference_eliction_chain.invoke({\"query\":\"어바웃타임에서 아버지와 아들이 시간에 대해서 이야기하는 장면과 나중에 아들(주인공)이 더 이상 시간 여행을 하지 않고 현재에 살아간다는 점이 너무 인상깊었고, 또 로맨스적인 요소도 너무 좋았어\"}).content\n",
    "result_json2 = preference_eliction_chain.invoke({\"query\":\"베테랑2에서 좋았던 점은 정해인 배우의 액션이 인상 깊었어. 굉장히 빠르게 진행되어서 좋았고 타격이 아닌 그라운드 기술이 중점이 된 액션이라 신선했어. 다만 스토리가 너무 허술해서 아쉬웠고, 특히 마지막 엔딩은 갑자기 끝난 느낌? 결말이 전혀 매력적으로 느껴지지 않았어\"}).content\n",
    "result_json3 = preference_eliction_chain.invoke({\"query\":\"아메리칸 셰프 영화를 봤는데, 신나는 음악과 신나는 요리 편집이 보기에 되게 시원했어. 그리고 주인공이 아들과의 관계를 회복하는 과정도 되게 재밌었어.\"}).content\n",
    "result_json4 = preference_eliction_chain.invoke({\"query\":\"검사외전을 봤는데 너무 별로였어. 강동원 특유의 신나고 재밌는 분위기는 좋았지만 스토리가 너무 별로였어. 문제가 해결되는 과정이 너무 얼렁뚱땅 넘어가는 느낌이라고 할까? 전혀 설득력이 없었어.\"}).content"
   ]
  },
  {
   "cell_type": "code",
   "execution_count": 84,
   "metadata": {},
   "outputs": [
    {
     "name": "stdout",
     "output_type": "stream",
     "text": [
      "```json\n",
      "{\n",
      "  \"movie_title\": \"어바웃타임\",\n",
      "  \"preference_score\": 9,\n",
      "  \"likes\": [\n",
      "    \"아버지와 아들이 시간에 대해 이야기하는 장면이 인상적이다.\",\n",
      "    \"주인공이 더 이상 시간 여행을 하지 않고 현재에 살아가는 점이 감동적이다.\",\n",
      "    \"로맨스적인 요소가 좋았다.\"\n",
      "  ],\n",
      "  \"dislikes\": []\n",
      "}\n",
      "```\n",
      "```json\n",
      "{\n",
      "  \"movie_title\": \"베테랑2\",\n",
      "  \"preference_score\": 6,\n",
      "  \"likes\": [\n",
      "    \"정해인 배우의 인상 깊은 액션\",\n",
      "    \"빠른 진행\",\n",
      "    \"신선한 그라운드 기술 중심의 액션\"\n",
      "  ],\n",
      "  \"dislikes\": [\n",
      "    \"허술한 스토리\",\n",
      "    \"갑작스러운 엔딩\",\n",
      "    \"매력 없는 결말\"\n",
      "  ]\n",
      "}\n",
      "```\n",
      "```json\n",
      "{\n",
      "  \"movie_title\": \"아메리칸 셰프\",\n",
      "  \"preference_score\": 8,\n",
      "  \"likes\": [\n",
      "    \"신나는 음악\",\n",
      "    \"신나는 요리 편집\",\n",
      "    \"주인공과 아들의 관계 회복 과정\"\n",
      "  ],\n",
      "  \"dislikes\": []\n",
      "}\n",
      "```\n",
      "```json\n",
      "{\n",
      "  \"movie_title\": \"검사외전\",\n",
      "  \"preference_score\": 4,\n",
      "  \"likes\": \"강동원 특유의 신나고 재밌는 분위기\",\n",
      "  \"dislikes\": \"스토리가 너무 별로였고, 문제가 해결되는 과정이 설득력이 없었다.\"\n",
      "}\n",
      "```\n"
     ]
    }
   ],
   "source": [
    "print(result_json1)\n",
    "print(result_json2)\n",
    "print(result_json3)\n",
    "print(result_json4)"
   ]
  },
  {
   "cell_type": "code",
   "execution_count": 97,
   "metadata": {},
   "outputs": [
    {
     "ename": "",
     "evalue": "",
     "output_type": "error",
     "traceback": [
      "\u001b[1;31mThe Kernel crashed while executing code in the current cell or a previous cell. \n",
      "\u001b[1;31mPlease review the code in the cell(s) to identify a possible cause of the failure. \n",
      "\u001b[1;31mClick <a href='https://aka.ms/vscodeJupyterKernelCrash'>here</a> for more info. \n",
      "\u001b[1;31mView Jupyter <a href='command:jupyter.viewOutput'>log</a> for further details."
     ]
    }
   ],
   "source": [
    "result_jsons = [result_json1, result_json2, result_json3, result_json4]"
   ]
  },
  {
   "cell_type": "markdown",
   "metadata": {},
   "source": [
    "## 리뷰 데이터에서 영화의 좋은 점, 나쁜 점 추출하기"
   ]
  },
  {
   "cell_type": "code",
   "execution_count": 79,
   "metadata": {},
   "outputs": [],
   "source": [
    "import pandas as pd\n",
    "\n",
    "df = pd.read_csv('./movie_infos.csv')\n",
    "df = df.dropna()\n",
    "\n",
    "import pickle\n",
    "\n",
    "with open('../../crawling\\data\\movie_infos_241017.pkl', 'rb') as f:  # 'rb'는 read binary의 약자\n",
    "    movie_infos = pickle.load(f)"
   ]
  },
  {
   "cell_type": "code",
   "execution_count": 78,
   "metadata": {},
   "outputs": [],
   "source": [
    "prompt = \"\"\"당신은 영화 리뷰 분석가입니다. 주어진 영화에 대한 사람들의 리뷰를 분석하여 그 영화의 좋은 점과 나쁜 점을 추출하세요.\n",
    "결과는 다음 형식에 맞춰 JSON 객체로 반환되어야 합니다:\n",
    "\n",
    "JSON 객체는 다음 필드를 포함해야 합니다:\n",
    "movie_title: 사용자 입력에 기반한 영화 제목.\n",
    "preference_score: 리뷰에서 추출한 영화의 전반적인 선호도를 1에서 10까지의 척도로 나타낸 숫자 점수.\n",
    "likes: 리뷰에서 추출한 영화의 좋은 점.\n",
    "dislikes: 리뷰에서 추출한 영화의 나쁜 점.\n",
    "\n",
    "영화제목 : {title}\n",
    "사용자 입력(리뷰): {reviews}\n",
    "JSON 객체:\n",
    "\"\"\"\n",
    "\n",
    "prompt_template = PromptTemplate(template=prompt, input_variables=[\"query\"])\n",
    "review_analysis_chain = prompt_template | llm"
   ]
  },
  {
   "cell_type": "code",
   "execution_count": 83,
   "metadata": {},
   "outputs": [],
   "source": [
    "review_jsons = []\n",
    "for i in range(10):\n",
    "   review_jsons.append(preference_eliction_chain2.invoke({\"title\":df.iloc[i]['영화제목'], \"reviews\":\"\\n\".join(df.iloc[i]['코멘트 10개 멘트 (|| parser)'].split('||'))}).content)"
   ]
  },
  {
   "cell_type": "code",
   "execution_count": 86,
   "metadata": {},
   "outputs": [
    {
     "name": "stdout",
     "output_type": "stream",
     "text": [
      "```json\n",
      "{\n",
      "  \"movie_title\": \"월플라워\",\n",
      "  \"preference_score\": 6,\n",
      "  \"likes\": [\n",
      "    \"감정적으로 깊이 있는 이야기\",\n",
      "    \"청춘의 성장과 사랑에 대한 진솔한 묘사\",\n",
      "    \"주인공들의 관계를 통해 느끼는 감동\",\n",
      "    \"인생의 소중함과 무한함을 일깨우는 메시지\"\n",
      "  ],\n",
      "  \"dislikes\": [\n",
      "    \"자신의 과거와 비교하게 만들어 불편함을 느끼게 함\",\n",
      "    \"청소년들의 상처를 다루는 방식이 아쉬움\",\n",
      "    \"일부 관객에게는 공감하기 어려운 주제\"\n",
      "  ]\n",
      "}\n",
      "```\n",
      "```json\n",
      "{\n",
      "  \"movie_title\": \"기생충\",\n",
      "  \"preference_score\": 4,\n",
      "  \"likes\": [\n",
      "    \"강렬한 메시지와 사회적 비판\",\n",
      "    \"탁월한 연출과 영상미\",\n",
      "    \"캐릭터 간의 복잡한 관계\",\n",
      "    \"블랙코미디와 스릴러의 독창적인 결합\",\n",
      "    \"연기력 뛰어난 배우들\"\n",
      "  ],\n",
      "  \"dislikes\": [\n",
      "    \"불편한 감정과 무기력함\",\n",
      "    \"인물 행동의 비이성적 요소\",\n",
      "    \"상류층과 하류층 간의 비극적 대립\",\n",
      "    \"계급 구조의 비극적 재현\",\n",
      "    \"일부 인물의 과장된 묘사\"\n",
      "  ]\n",
      "}\n",
      "```\n",
      "```json\n",
      "{\n",
      "  \"movie_title\": \"메멘토\",\n",
      "  \"preference_score\": 9,\n",
      "  \"likes\": [\n",
      "    \"기발한 발상\",\n",
      "    \"천재적 편집\",\n",
      "    \"혁명적 구성\",\n",
      "    \"감독의 의도와 역설적인 메시지\",\n",
      "    \"관객의 기억을 자극하는 연출\"\n",
      "  ],\n",
      "  \"dislikes\": [\n",
      "    \"이해하기 어려운 복잡한 스토리\",\n",
      "    \"한 번만 보고는 내용을 파악하기 힘든 점\"\n",
      "  ]\n",
      "}\n",
      "```\n",
      "```json\n",
      "{\n",
      "  \"movie_title\": \"노인을 위한 나라는 없다\",\n",
      "  \"preference_score\": 7,\n",
      "  \"likes\": [\n",
      "    \"배경음악이 전혀 사용되지 않아 적막함을 강조함\",\n",
      "    \"강렬한 주제와 메시지\",\n",
      "    \"탁월한 연출과 테크닉\",\n",
      "    \"어두운 분위기와 긴장감\",\n",
      "    \"인간의 허무와 죽음에 대한 깊은 성찰\"\n",
      "  ],\n",
      "  \"dislikes\": [\n",
      "    \"영화의 내용이 너무 무겁고 우울함\",\n",
      "    \"일부 관객에게는 이해하기 어려운 부분이 있음\",\n",
      "    \"감정적으로 힘든 경험을 줄 수 있음\"\n",
      "  ]\n",
      "}\n",
      "```\n",
      "```json\n",
      "{\n",
      "  \"movie_title\": \"박화영\",\n",
      "  \"preference_score\": 7,\n",
      "  \"likes\": [\n",
      "    \"현실적이고 강렬한 메시지 전달\",\n",
      "    \"배우들의 뛰어난 연기\",\n",
      "    \"어두운 분위기와 긴장감 있는 전개\",\n",
      "    \"공감대를 자극하는 대사\",\n",
      "    \"박화영 캐릭터의 복잡한 감정 표현\"\n",
      "  ],\n",
      "  \"dislikes\": [\n",
      "    \"자극적인 장면이 과도하게 나열됨\",\n",
      "    \"불쾌감을 주는 표현 방식\",\n",
      "    \"영화의 메시지가 역효과를 낼 수 있음\",\n",
      "    \"정서적으로 힘든 내용\",\n",
      "    \"관객을 가출청소년 문제에 대해 무지한 상태로 대하는 느낌\"\n",
      "  ]\n",
      "}\n",
      "```\n",
      "```json\n",
      "{\n",
      "  \"movie_title\": \"거인\",\n",
      "  \"preference_score\": 7,\n",
      "  \"likes\": [\n",
      "    \"주인공의 고통과 현실을 리얼하게 표현함\",\n",
      "    \"최우식 배우의 연기와 캐릭터 표현\",\n",
      "    \"독립영화의 진솔한 삶의 묘사\",\n",
      "    \"감독 김태용의 연출에 대한 찬사\",\n",
      "    \"잔잔함 속에 깊이를 품고 있는 스토리\"\n",
      "  ],\n",
      "  \"dislikes\": [\n",
      "    \"영화의 주제가 성장영화가 아닌 재난영화라는 점\",\n",
      "    \"포스터 문구와 영화 내용의 불일치\",\n",
      "    \"아픈만큼 큰다라는 메시지에 대한 반감\"\n",
      "  ]\n",
      "}\n",
      "```\n",
      "```json\n",
      "{\n",
      "  \"movie_title\": \"끝까지 간다\",\n",
      "  \"preference_score\": 9,\n",
      "  \"likes\": [\n",
      "    \"두 주인공의 강렬한 대면 장면\",\n",
      "    \"이선균과 조진웅의 뛰어난 연기\",\n",
      "    \"짜임새 있는 각본과 스릴 넘치는 전개\",\n",
      "    \"몰입감을 주는 탄탄한 스토리\",\n",
      "    \"블랙코미디 요소와 긴장감\",\n",
      "    \"예상치 못한 전개와 긴장감 넘치는 장면들\"\n",
      "  ],\n",
      "  \"dislikes\": [\n",
      "    \"한국식 결말의 기승전결에 대한 익숙함\",\n",
      "    \"킬링타임용으로는 좋지만 깊이 있는 영화는 아님\",\n",
      "    \"에피소드1 이후의 전개가 평범하게 느껴짐\"\n",
      "  ]\n",
      "}\n",
      "```\n",
      "```json\n",
      "{\n",
      "  \"movie_title\": \"헤드윅\",\n",
      "  \"preference_score\": 9,\n",
      "  \"likes\": [\n",
      "    \"고독과 외로움을 깊이 있게 표현한 이야기\",\n",
      "    \"헤드윅의 음악이 감정과 철학을 담고 있음\",\n",
      "    \"주인공의 복잡한 정체성과 자아 탐구\",\n",
      "    \"관객에게 위로와 공감을 주는 메시지\",\n",
      "    \"영화의 감정이 진정성 있게 전달됨\"\n",
      "  ],\n",
      "  \"dislikes\": [\n",
      "    \"토미 노시스 캐릭터에 대한 강한 반감\",\n",
      "    \"영화의 전개가 다소 우울하고 무거울 수 있음\",\n",
      "    \"일부 관객에게는 이해하기 어려운 주제\"\n",
      "  ]\n",
      "}\n",
      "```\n",
      "```json\n",
      "{\n",
      "  \"movie_title\": \"더 울프 오브 월 스트리트\",\n",
      "  \"preference_score\": 8,\n",
      "  \"likes\": [\n",
      "    \"디카프리오의 뛰어난 연기\",\n",
      "    \"스콜세지 감독의 독창적인 연출\",\n",
      "    \"코미디 장르의 특성을 활용한 이중적인 태도\",\n",
      "    \"빠르고 경쾌한 진행\",\n",
      "    \"관객의 자아를 반영하는 교묘한 게임\"\n",
      "  ],\n",
      "  \"dislikes\": [\n",
      "    \"자극적인 소재의 단순 반복\",\n",
      "    \"범죄의 피해자에 대한 구체적 언급 부족\",\n",
      "    \"주인공의 과거에 대한 설명 부족\",\n",
      "    \"영화의 길이가 길어 피로감을 유발\",\n",
      "    \"동경과 비웃음의 경계가 모호함\"\n",
      "  ]\n",
      "}\n",
      "```\n",
      "```json\n",
      "{\n",
      "  \"movie_title\": \"인사이드 아웃 2\",\n",
      "  \"preference_score\": 9,\n",
      "  \"likes\": [\n",
      "    \"감정의 복잡함을 잘 표현함\",\n",
      "    \"불안을 다루는 방법에 대한 깊은 통찰\",\n",
      "    \"아이들에게 사랑을 전하는 메시지\",\n",
      "    \"다양한 감정 캐릭터들이 조화를 이루며 이야기를 이끌어감\",\n",
      "    \"관객의 감정을 자극하는 강력한 장면들\"\n",
      "  ],\n",
      "  \"dislikes\": [\n",
      "    \"일부 장면이 너무 감정적으로 힘들 수 있음\",\n",
      "    \"복잡한 감정 표현이 이해하기 어려울 수 있음\"\n",
      "  ]\n",
      "}\n",
      "```\n"
     ]
    }
   ],
   "source": [
    "for review_json in review_jsons:\n",
    "    print(review_json)"
   ]
  },
  {
   "cell_type": "markdown",
   "metadata": {},
   "source": [
    "## 위 2개 가지고 추천하기"
   ]
  },
  {
   "cell_type": "code",
   "execution_count": 93,
   "metadata": {},
   "outputs": [],
   "source": [
    "prompt = \"\"\"당신은 영화 추천 전문가입니다. 사용자가 특정 영화에 대해 좋아하는 이유와 싫어하는 이유를 제공할 것입니다.\n",
    "이를 바탕으로, 사람들이 평가한 다른 영화의 좋은 점과 싫은 점을 참고하여 사용자가 좋아할만한 영화를 추천하세요.\n",
    "\n",
    "추천 결과는 다음 형식에 맞춰야 합니다:\n",
    "\n",
    "JSON 객체는 다음 필드를 포함해야 합니다:\n",
    "recommended_movies: 사용자가 좋아할 만한 영화 목록 (최대5개).\n",
    "reason_for_recommendation: 각 추천 영화가 사용자에게 적합한 이유.\n",
    "\n",
    "사용자 입력(좋아하는 이유와 싫어하는 이유): {query}\n",
    "다른 사람들이 평가한 정보 (각 영화가 좋은 이유와 싫은 이유): {reviews}\n",
    "JSON 객체:\n",
    "\"\"\"\n",
    "\n",
    "prompt_template = PromptTemplate(template=prompt, input_variables=[\"query\"])\n",
    "rec_chain = prompt_template | llm"
   ]
  },
  {
   "cell_type": "code",
   "execution_count": 96,
   "metadata": {},
   "outputs": [
    {
     "data": {
      "text/plain": [
       "'```json\\n{\\n  \"movie_title\": \"어바웃타임\",\\n  \"preference_score\": 9,\\n  \"likes\": [\\n    \"아버지와 아들이 시간에 대해 이야기하는 장면이 인상적이다.\",\\n    \"주인공이 더 이상 시간 여행을 하지 않고 현재에 살아가는 점이 감동적이다.\",\\n    \"로맨스적인 요소가 좋았다.\"\\n  ],\\n  \"dislikes\": []\\n}\\n``````json\\n{\\n  \"movie_title\": \"베테랑2\",\\n  \"preference_score\": 6,\\n  \"likes\": [\\n    \"정해인 배우의 인상 깊은 액션\",\\n    \"빠른 진행\",\\n    \"신선한 그라운드 기술 중심의 액션\"\\n  ],\\n  \"dislikes\": [\\n    \"허술한 스토리\",\\n    \"갑작스러운 엔딩\",\\n    \"매력 없는 결말\"\\n  ]\\n}\\n``````json\\n{\\n  \"movie_title\": \"아메리칸 셰프\",\\n  \"preference_score\": 8,\\n  \"likes\": [\\n    \"신나는 음악\",\\n    \"신나는 요리 편집\",\\n    \"주인공과 아들의 관계 회복 과정\"\\n  ],\\n  \"dislikes\": []\\n}\\n``````json\\n{\\n  \"movie_title\": \"검사외전\",\\n  \"preference_score\": 4,\\n  \"likes\": \"강동원 특유의 신나고 재밌는 분위기\",\\n  \"dislikes\": \"스토리가 너무 별로였고, 문제가 해결되는 과정이 설득력이 없었다.\"\\n}\\n```'"
      ]
     },
     "execution_count": 96,
     "metadata": {},
     "output_type": "execute_result"
    }
   ],
   "source": [
    "result_json1+result_json2+result_json3+result_json4"
   ]
  },
  {
   "cell_type": "code",
   "execution_count": 94,
   "metadata": {},
   "outputs": [],
   "source": [
    "rec_result = rec_chain.invoke({\"query\":result_json1+result_json2+result_json3+result_json4, \"reviews\": \"\".join(review_jsons)}).content"
   ]
  },
  {
   "cell_type": "code",
   "execution_count": 95,
   "metadata": {},
   "outputs": [
    {
     "name": "stdout",
     "output_type": "stream",
     "text": [
      "```json\n",
      "{\n",
      "  \"recommended_movies\": [\n",
      "    {\n",
      "      \"title\": \"월플라워\",\n",
      "      \"reason_for_recommendation\": \"감정적으로 깊이 있는 이야기와 청춘의 성장, 사랑에 대한 진솔한 묘사가 어바웃타임의 감동적인 요소와 잘 어울립니다.\"\n",
      "    },\n",
      "    {\n",
      "      \"title\": \"아메리칸 셰프\",\n",
      "      \"reason_for_recommendation\": \"주인공과 아들의 관계 회복 과정이 감동적이며, 신나는 음악과 요리 편집이 로맨스적인 요소와 잘 어울립니다.\"\n",
      "    },\n",
      "    {\n",
      "      \"title\": \"헤드윅\",\n",
      "      \"reason_for_recommendation\": \"고독과 외로움을 깊이 있게 표현한 이야기와 주인공의 복잡한 정체성이 어바웃타임의 감정적인 요소와 연결될 수 있습니다.\"\n",
      "    },\n",
      "    {\n",
      "      \"title\": \"끝까지 간다\",\n",
      "      \"reason_for_recommendation\": \"강렬한 대면 장면과 짜임새 있는 각본이 긴장감을 주며, 감정적으로 몰입할 수 있는 요소가 있습니다.\"\n",
      "    },\n",
      "    {\n",
      "      \"title\": \"인사이드 아웃 2\",\n",
      "      \"reason_for_recommendation\": \"감정의 복잡함을 잘 표현하고, 다양한 감정 캐릭터들이 조화를 이루며 이야기를 이끌어가는 점이 어바웃타임의 감동적인 요소와 잘 맞습니다.\"\n",
      "    }\n",
      "  ]\n",
      "}\n",
      "```\n"
     ]
    }
   ],
   "source": [
    "print(rec_result)"
   ]
  },
  {
   "cell_type": "code",
   "execution_count": null,
   "metadata": {},
   "outputs": [],
   "source": []
  }
 ],
 "metadata": {
  "kernelspec": {
   "display_name": "bnvitt-chatbot",
   "language": "python",
   "name": "python3"
  },
  "language_info": {
   "codemirror_mode": {
    "name": "ipython",
    "version": 3
   },
   "file_extension": ".py",
   "mimetype": "text/x-python",
   "name": "python",
   "nbconvert_exporter": "python",
   "pygments_lexer": "ipython3",
   "version": "3.10.8"
  }
 },
 "nbformat": 4,
 "nbformat_minor": 2
}
