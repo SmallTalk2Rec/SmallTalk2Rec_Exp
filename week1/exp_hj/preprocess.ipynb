{
 "cells": [
  {
   "cell_type": "code",
   "execution_count": 1,
   "metadata": {},
   "outputs": [],
   "source": [
    "import pandas as pd\n",
    "import numpy as np\n",
    "\n",
    "data = pd.read_csv('movie_list.csv')\n",
    "\n",
    "data.columns = ['Title','Director','Screenwriter','Synopsis','Score','NumOfScore','Actors','ScoresOfComment','Comment','Genre','Country','Viewer','RunningTime','Adult']\n",
    "data = data.dropna(axis=0).reset_index(drop=True)\n",
    "\n",
    "data.head()"
   ]
  },
  {
   "cell_type": "markdown",
   "metadata": {},
   "source": [
    "# Motivation\n",
    "\n",
    "사용자 요구 & ***추천***\n",
    "\n",
    "- SQL 기반의 DB와 쿼리로 추천\n",
    "- 근데 filtering하다보니.... -> 이거 excel filtering이랑 다를게 뭐지?\n",
    "  => LLM을 유의미하게 써보자!\n",
    "\n",
    "근데 계속 VectorDB에 생각이 좀 갇혀버린 느낌도....\\\n",
    "[평점, 관람객 수, 리뷰 수] 인기도(goodness) <-> 적합(fitneess) [**리뷰**, 줄거리]\n",
    "\n",
    "vector search가 안되니까....\n",
    "\n",
    "### 그물을 펼치는 것처럼\n",
    "요구 ------------------> 영화\\\n",
    "요구 -------------------- 영화\\\n",
    "--> 유저태그1 == 영화태그1 <--\\\n",
    "--> 유저태그2 == 영화태그2 <--\\\n",
    "--> 유저태그3 == 영화태그3 <--"
   ]
  },
  {
   "cell_type": "markdown",
   "metadata": {},
   "source": [
    "# 리뷰\n",
    "\n",
    "영화 리뷰를 5개 이하의 해시태그로 요약"
   ]
  },
  {
   "cell_type": "code",
   "execution_count": 21,
   "metadata": {},
   "outputs": [],
   "source": [
    "import openai\n",
    "\n",
    "from langchain_openai import ChatOpenAI\n",
    "from langchain import LLMChain, PromptTemplate\n",
    "\n",
    "\n",
    "## Load API\n",
    "# load_dotenv()\n",
    "# api_key = os.getenv('OPENAI_API_KEY')\n",
    "\n",
    "hashtagger = ChatOpenAI(model = 'gpt-4o-mini', temperature = 0)"
   ]
  },
  {
   "cell_type": "code",
   "execution_count": 40,
   "metadata": {},
   "outputs": [
    {
     "data": {
      "text/plain": [
       "'#허무#적막#재기#돈#죽음'"
      ]
     },
     "execution_count": 40,
     "metadata": {},
     "output_type": "execute_result"
    }
   ],
   "source": [
    "prompt_tagging = \"\"\"영화리뷰를 해시태그로 요약해줘. 해시태그 개수는 5개 이하로 필요한 만큼 써. 해시태그는 띄어쓰기 없이 붙여서 반환해줘\n",
    "\n",
    "리뷰: 그 터널을 무사히 빠져나온 모두에게\n",
    "해시태그: #극복#희망\n",
    "\n",
    "리뷰: 사람은 자신의 크기에 맞는 사랑을 한다\n",
    "해시태그: #사랑#자아수용\n",
    "\n",
    "리뷰: 샘이라는 여자가 내 인생에 있다면, 나는 내 인생을 통째로 그녀에게 헌납하고 싶다. 패트릭이라는 친구가 내 인생에 있다면, 그와 같은 열정으로 살고 싶다.\n",
    "해시태그: #헌신#열정#우정\n",
    "\n",
    "리뷰: '그거 아세요? 이 영화에는 배경음악이 단 일초도 쓰이지 않았다는것||피튀기는 젊은 세상. 그러한 황량하고 잔인한 사막 한가운데서 자신이 할 수 있는 것이 아직 존재한다고 믿는 보안관. 적막 속에서 그렇지 않음을 깨달았을 때, 웬 힘없는 노인이 한 명 서있다.||불행은 단발머리를 하고 한 손엔 동전을 쥔 채 예고없이 나타난다.||타고난 재기, 뛰어난 테크닉, 그리고 어둡고 깊은 우물 하나.||내 수준이 아직 이정도까진 아닌듯 하다. 걸작이라는 영화를 보고 난 왜 평범 그 이상의것을 느끼지 못하는걸까ㅜㅜ||\"세월은 막을 수 없는 거야. 너를 기다려주지 않을 거고, 그게 바로 \\'허무\\'야.\"||온통 돈에 대한 욕심들로 가득차 있다. 옷을 벗어준 두 어린 아이들 조차도 돈 때문에 다툰다.||살인마가 쓸데없이 머리는 귀엽다;||적막이 흐르면 더 무서운 영화||우리에게도 언젠가는 쉬거가 찾아오겠죠. 쉬거는 곧 \"죽음\" 이니까.'\n",
    "해시태그: #허무#적막#재기#돈#죽음\n",
    "\n",
    "리뷰: {review}\n",
    "해시태그:\"\"\"\n",
    "\n",
    "hastag_prompt = PromptTemplate(\n",
    "    template  = prompt_tagging,\n",
    "    input_variables = ['review']\n",
    ")\n",
    "\n",
    "tagging = LLMChain(\n",
    "    llm = hashtagger,\n",
    "    prompt = hastag_prompt\n",
    ")\n",
    "\n",
    "result = tagging.invoke({\"review\":data.loc[3, 'Comment']})\n",
    "result['text']"
   ]
  },
  {
   "cell_type": "code",
   "execution_count": 42,
   "metadata": {},
   "outputs": [],
   "source": [
    "for i in data.index:\n",
    "\n",
    "    result = tagging.invoke({\"review\":data.loc[i, 'Comment']})\n",
    "    data.loc[i,'ReviewTag'] = result['text']"
   ]
  },
  {
   "cell_type": "markdown",
   "metadata": {},
   "source": [
    "# 종합 컬럼\n",
    "\n",
    "여기에 sql like 쿼리 먹일겁니다.\\\n",
    "감독, 각본가, 장르, 배우, 리뷰태그\n",
    "\n",
    "single turn이니까 가능한거긴 한데\\\n",
    "1) 유저의 request를 감독, 각본가, 장르, 배우, 감성 관련해서 5개의 해시태그로 변형\n",
    "2) 5번 sql like 쿼리"
   ]
  },
  {
   "cell_type": "code",
   "execution_count": 48,
   "metadata": {},
   "outputs": [],
   "source": [
    "infos = ['Title','Director','Screenwriter','Actors','Genre','ReviewTag']\n",
    "data['Overall'] = data[infos].sum(axis=1)"
   ]
  },
  {
   "cell_type": "code",
   "execution_count": 54,
   "metadata": {},
   "outputs": [
    {
     "data": {
      "text/html": [
       "<div>\n",
       "<style scoped>\n",
       "    .dataframe tbody tr th:only-of-type {\n",
       "        vertical-align: middle;\n",
       "    }\n",
       "\n",
       "    .dataframe tbody tr th {\n",
       "        vertical-align: top;\n",
       "    }\n",
       "\n",
       "    .dataframe thead th {\n",
       "        text-align: right;\n",
       "    }\n",
       "</style>\n",
       "<table border=\"1\" class=\"dataframe\">\n",
       "  <thead>\n",
       "    <tr style=\"text-align: right;\">\n",
       "      <th></th>\n",
       "      <th>Title</th>\n",
       "      <th>Director</th>\n",
       "      <th>Screenwriter</th>\n",
       "      <th>Synopsis</th>\n",
       "      <th>Score</th>\n",
       "      <th>NumOfScore</th>\n",
       "      <th>Actors</th>\n",
       "      <th>ScoresOfComment</th>\n",
       "      <th>Comment</th>\n",
       "      <th>Genre</th>\n",
       "      <th>Country</th>\n",
       "      <th>Viewer</th>\n",
       "      <th>RunningTime</th>\n",
       "      <th>Adult</th>\n",
       "      <th>ReviewTag</th>\n",
       "      <th>Overall</th>\n",
       "    </tr>\n",
       "  </thead>\n",
       "  <tbody>\n",
       "    <tr>\n",
       "      <th>0</th>\n",
       "      <td>월플라워</td>\n",
       "      <td>스티븐 크보스키</td>\n",
       "      <td>스티븐 크보스키</td>\n",
       "      <td>말 못할 트라우마를 가지고 자신만의 세계에 갇혀있던 ‘찰리’는 고등학교 신입생이 돼...</td>\n",
       "      <td>3.8</td>\n",
       "      <td>305000.0</td>\n",
       "      <td>에즈라 밀러||로건 메먼||엠마 왓슨</td>\n",
       "      <td>4.0||5.0||4.0||2.0||4.0||4.0||3.5||4.5||3.5||4.5</td>\n",
       "      <td>그 터널을 무사히 빠져나온 모두에게||사람은 자신의 크기에 맞는 사랑을 한다||샘이...</td>\n",
       "      <td>드라마/로맨스</td>\n",
       "      <td>미국</td>\n",
       "      <td>1.7</td>\n",
       "      <td>102.0</td>\n",
       "      <td>0.0</td>\n",
       "      <td>#청춘#사랑#극복#우정#허무</td>\n",
       "      <td>월플라워스티븐 크보스키스티븐 크보스키에즈라 밀러||로건 메먼||엠마 왓슨드라마/로맨...</td>\n",
       "    </tr>\n",
       "    <tr>\n",
       "      <th>1</th>\n",
       "      <td>기생충</td>\n",
       "      <td>봉준호</td>\n",
       "      <td>봉준호||한진원</td>\n",
       "      <td>“폐 끼치고 싶진 않았어요” 전원백수로 살 길 막막하지만 사이는 좋은 기택(송강호)...</td>\n",
       "      <td>4.3</td>\n",
       "      <td>1265000.0</td>\n",
       "      <td>박소담||송강호||조여정||최우식||이선균||장혜진||이정은</td>\n",
       "      <td>5.0||4.5||5.0||0.5||4.5||5.0||4.0||5.0||5.0||5.0</td>\n",
       "      <td>황금종려상 받은 영화를 자막없이 볼 수 있는 행복 190529||상승과 하강으로 명...</td>\n",
       "      <td>드라마</td>\n",
       "      <td>한국</td>\n",
       "      <td>1031.0</td>\n",
       "      <td>131.0</td>\n",
       "      <td>0.0</td>\n",
       "      <td>#계급#무기력#생존본능#아이러니#기생충</td>\n",
       "      <td>기생충봉준호봉준호||한진원박소담||송강호||조여정||최우식||이선균||장혜진||이정...</td>\n",
       "    </tr>\n",
       "    <tr>\n",
       "      <th>2</th>\n",
       "      <td>메멘토</td>\n",
       "      <td>크리스토퍼 놀란</td>\n",
       "      <td>크리스토퍼 놀란</td>\n",
       "      <td>아내가 살해당한 후, 10분밖에 기억 못하는 단기기억상실증에 걸린 남자가 사진, 메...</td>\n",
       "      <td>4.1</td>\n",
       "      <td>641000.0</td>\n",
       "      <td>조 판톨리아노||가이 피어스||캐리 앤 모스</td>\n",
       "      <td>5.0||5.0||4.5||5.0||5.0||5.0||5.0||4.0||5.0||4.0</td>\n",
       "      <td>사람은 보고싶은 것만 보고 듣고싶은 것만 듣고 믿고 싶은 것만 믿고 기억하고 싶은 ...</td>\n",
       "      <td>미스터리/스릴러</td>\n",
       "      <td>미국</td>\n",
       "      <td>19.0</td>\n",
       "      <td>113.0</td>\n",
       "      <td>0.0</td>\n",
       "      <td>#기억#역설#편집#해석#창의성</td>\n",
       "      <td>메멘토크리스토퍼 놀란크리스토퍼 놀란조 판톨리아노||가이 피어스||캐리 앤 모스미스터...</td>\n",
       "    </tr>\n",
       "    <tr>\n",
       "      <th>3</th>\n",
       "      <td>노인을 위한 나라는 없다</td>\n",
       "      <td>에단 코엔||조엘 코엔</td>\n",
       "      <td>에단 코엔||조엘 코엔</td>\n",
       "      <td>르웰린 모스(조쉬 브롤린)는 총격전이 벌어진 끔찍한 현장에서 우연히 이백만 달러가 ...</td>\n",
       "      <td>4.0</td>\n",
       "      <td>349000.0</td>\n",
       "      <td>토미 리 존스||하비에르 바르뎀||조쉬 브롤린</td>\n",
       "      <td>5.0||5.0||5.0||5.0||3.5||5.0||5.0||4.5||5.0||5.0</td>\n",
       "      <td>그거 아세요? 이 영화에는 배경음악이 단 일초도 쓰이지 않았다는것||피튀기는 젊은 ...</td>\n",
       "      <td>범죄/드라마/스릴러</td>\n",
       "      <td>미국</td>\n",
       "      <td>9.0</td>\n",
       "      <td>122.0</td>\n",
       "      <td>1.0</td>\n",
       "      <td>#허무#적막#재기#돈#죽음</td>\n",
       "      <td>노인을 위한 나라는 없다에단 코엔||조엘 코엔에단 코엔||조엘 코엔토미 리 존스||...</td>\n",
       "    </tr>\n",
       "    <tr>\n",
       "      <th>4</th>\n",
       "      <td>박화영</td>\n",
       "      <td>이환</td>\n",
       "      <td>이환</td>\n",
       "      <td>“니들은 나 없으면 어쩔 뻔 봤냐?” 이름: 박화영 나이: 18 직업: 고등학생 가...</td>\n",
       "      <td>3.3</td>\n",
       "      <td>142000.0</td>\n",
       "      <td>김가희||강민아||이재균</td>\n",
       "      <td>3.0||3.0||3.0||3.0||4.5||2.5||3.5||3.0||3.0||2.5</td>\n",
       "      <td>자극적인 장면들을 자꾸 나열한다고 해서 메시지가 더 잘 전달되는 건 아닌데..||불...</td>\n",
       "      <td>드라마</td>\n",
       "      <td>한국</td>\n",
       "      <td>0.6</td>\n",
       "      <td>112.0</td>\n",
       "      <td>1.0</td>\n",
       "      <td>#현실#폭력#고어#사랑#비참</td>\n",
       "      <td>박화영이환이환김가희||강민아||이재균드라마#현실#폭력#고어#사랑#비참</td>\n",
       "    </tr>\n",
       "  </tbody>\n",
       "</table>\n",
       "</div>"
      ],
      "text/plain": [
       "           Title      Director  Screenwriter  \\\n",
       "0           월플라워      스티븐 크보스키      스티븐 크보스키   \n",
       "1            기생충           봉준호      봉준호||한진원   \n",
       "2            메멘토      크리스토퍼 놀란      크리스토퍼 놀란   \n",
       "3  노인을 위한 나라는 없다  에단 코엔||조엘 코엔  에단 코엔||조엘 코엔   \n",
       "4            박화영            이환            이환   \n",
       "\n",
       "                                            Synopsis  Score  NumOfScore  \\\n",
       "0  말 못할 트라우마를 가지고 자신만의 세계에 갇혀있던 ‘찰리’는 고등학교 신입생이 돼...    3.8    305000.0   \n",
       "1  “폐 끼치고 싶진 않았어요” 전원백수로 살 길 막막하지만 사이는 좋은 기택(송강호)...    4.3   1265000.0   \n",
       "2  아내가 살해당한 후, 10분밖에 기억 못하는 단기기억상실증에 걸린 남자가 사진, 메...    4.1    641000.0   \n",
       "3  르웰린 모스(조쉬 브롤린)는 총격전이 벌어진 끔찍한 현장에서 우연히 이백만 달러가 ...    4.0    349000.0   \n",
       "4  “니들은 나 없으면 어쩔 뻔 봤냐?” 이름: 박화영 나이: 18 직업: 고등학생 가...    3.3    142000.0   \n",
       "\n",
       "                              Actors  \\\n",
       "0               에즈라 밀러||로건 메먼||엠마 왓슨   \n",
       "1  박소담||송강호||조여정||최우식||이선균||장혜진||이정은   \n",
       "2           조 판톨리아노||가이 피어스||캐리 앤 모스   \n",
       "3          토미 리 존스||하비에르 바르뎀||조쉬 브롤린   \n",
       "4                      김가희||강민아||이재균   \n",
       "\n",
       "                                    ScoresOfComment  \\\n",
       "0  4.0||5.0||4.0||2.0||4.0||4.0||3.5||4.5||3.5||4.5   \n",
       "1  5.0||4.5||5.0||0.5||4.5||5.0||4.0||5.0||5.0||5.0   \n",
       "2  5.0||5.0||4.5||5.0||5.0||5.0||5.0||4.0||5.0||4.0   \n",
       "3  5.0||5.0||5.0||5.0||3.5||5.0||5.0||4.5||5.0||5.0   \n",
       "4  3.0||3.0||3.0||3.0||4.5||2.5||3.5||3.0||3.0||2.5   \n",
       "\n",
       "                                             Comment       Genre Country  \\\n",
       "0  그 터널을 무사히 빠져나온 모두에게||사람은 자신의 크기에 맞는 사랑을 한다||샘이...     드라마/로맨스      미국   \n",
       "1  황금종려상 받은 영화를 자막없이 볼 수 있는 행복 190529||상승과 하강으로 명...         드라마      한국   \n",
       "2  사람은 보고싶은 것만 보고 듣고싶은 것만 듣고 믿고 싶은 것만 믿고 기억하고 싶은 ...    미스터리/스릴러      미국   \n",
       "3  그거 아세요? 이 영화에는 배경음악이 단 일초도 쓰이지 않았다는것||피튀기는 젊은 ...  범죄/드라마/스릴러      미국   \n",
       "4  자극적인 장면들을 자꾸 나열한다고 해서 메시지가 더 잘 전달되는 건 아닌데..||불...         드라마      한국   \n",
       "\n",
       "   Viewer  RunningTime  Adult              ReviewTag  \\\n",
       "0     1.7        102.0    0.0        #청춘#사랑#극복#우정#허무   \n",
       "1  1031.0        131.0    0.0  #계급#무기력#생존본능#아이러니#기생충   \n",
       "2    19.0        113.0    0.0       #기억#역설#편집#해석#창의성   \n",
       "3     9.0        122.0    1.0         #허무#적막#재기#돈#죽음   \n",
       "4     0.6        112.0    1.0        #현실#폭력#고어#사랑#비참   \n",
       "\n",
       "                                             Overall  \n",
       "0  월플라워스티븐 크보스키스티븐 크보스키에즈라 밀러||로건 메먼||엠마 왓슨드라마/로맨...  \n",
       "1  기생충봉준호봉준호||한진원박소담||송강호||조여정||최우식||이선균||장혜진||이정...  \n",
       "2  메멘토크리스토퍼 놀란크리스토퍼 놀란조 판톨리아노||가이 피어스||캐리 앤 모스미스터...  \n",
       "3  노인을 위한 나라는 없다에단 코엔||조엘 코엔에단 코엔||조엘 코엔토미 리 존스||...  \n",
       "4             박화영이환이환김가희||강민아||이재균드라마#현실#폭력#고어#사랑#비참  "
      ]
     },
     "execution_count": 54,
     "metadata": {},
     "output_type": "execute_result"
    }
   ],
   "source": [
    "data.head()"
   ]
  },
  {
   "cell_type": "code",
   "execution_count": 50,
   "metadata": {},
   "outputs": [],
   "source": [
    "data.to_csv('movie_list.csv', index=False)"
   ]
  },
  {
   "cell_type": "markdown",
   "metadata": {},
   "source": [
    "# 유저 요구사항 해시태그로 만들기\n",
    "\n",
    "유저의 요구사항을 gpt-api로 만들기\n"
   ]
  },
  {
   "cell_type": "code",
   "execution_count": 53,
   "metadata": {},
   "outputs": [
    {
     "name": "stdout",
     "output_type": "stream",
     "text": [
      "액션\n"
     ]
    }
   ],
   "source": [
    "user_tagger = ChatOpenAI(model= 'gpt-4o-mini', temperature= 0)\n",
    "\n",
    "usertag_prompt = \"\"\"영화 추천할거야. 유저의 요청을 감독, 각본가, 장르, 배우, 감성 관련해서 3개이하의 키워드로 변형해줘. 각 키워드는 ||로 구분해줘\n",
    "\n",
    "user: 레이첼 맥아담스 나오는 영화 추천해줘\n",
    "answer: 레이첼 맥아담스\n",
    "\n",
    "user: 신나는 블록버스터 영화 추천해줘\n",
    "answer: 블록버스터\n",
    "\n",
    "user: '노트북'이랑 비슷한 영화 추천해줘\n",
    "answer: 로맨스||레이첼 맥아담스||라이언 고슬링\n",
    "\n",
    "user: 스타워즈 나 너무 좋아하는데. 비슷한 영화 추천해줘.\n",
    "answer: SF||판타지\n",
    "\n",
    "user: 탑건이랑 비슷한 영화 추천해줘.\n",
    "answer: 톰 크루즈||액션||전투기\n",
    "\n",
    "user: {query}\n",
    "answer: \"\"\"\n",
    "\n",
    "\n",
    "usertag_template = PromptTemplate(\n",
    "    template  = usertag_prompt,\n",
    "    input_variables = ['query']\n",
    ")\n",
    "\n",
    "query_making = LLMChain(\n",
    "    llm = user_tagger,\n",
    "    prompt = usertag_template\n",
    ")\n",
    "\n",
    "result = query_making.invoke(input())\n",
    "print(result['text'])"
   ]
  },
  {
   "cell_type": "code",
   "execution_count": 52,
   "metadata": {},
   "outputs": [
    {
     "data": {
      "text/plain": [
       "{'query': '액션영화 추천해줘', 'text': 'keyword: 액션'}"
      ]
     },
     "execution_count": 52,
     "metadata": {},
     "output_type": "execute_result"
    }
   ],
   "source": [
    "result"
   ]
  },
  {
   "cell_type": "code",
   "execution_count": null,
   "metadata": {},
   "outputs": [],
   "source": []
  }
 ],
 "metadata": {
  "kernelspec": {
   "display_name": "smalltalk-1-Z1I-9o-py3.12",
   "language": "python",
   "name": "python3"
  },
  "language_info": {
   "codemirror_mode": {
    "name": "ipython",
    "version": 3
   },
   "file_extension": ".py",
   "mimetype": "text/x-python",
   "name": "python",
   "nbconvert_exporter": "python",
   "pygments_lexer": "ipython3",
   "version": "3.13.0"
  },
  "orig_nbformat": 4
 },
 "nbformat": 4,
 "nbformat_minor": 2
}
