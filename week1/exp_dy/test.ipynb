{
 "cells": [
  {
   "cell_type": "code",
   "execution_count": 1,
   "metadata": {},
   "outputs": [
    {
     "data": {
      "text/plain": [
       "True"
      ]
     },
     "execution_count": 1,
     "metadata": {},
     "output_type": "execute_result"
    }
   ],
   "source": [
    "# 00 package import\n",
    "import pandas as pd\n",
    "from langchain.document_loaders import DataFrameLoader\n",
    "from langchain.vectorstores import FAISS\n",
    "from langchain.embeddings.openai import OpenAIEmbeddings\n",
    "from langchain.chains import RetrievalQA\n",
    "from langchain.llms import OpenAI\n",
    "\n",
    "import os\n",
    "from dotenv import load_dotenv\n",
    "\n",
    "load_dotenv()\n"
   ]
  },
  {
   "cell_type": "code",
   "execution_count": 2,
   "metadata": {},
   "outputs": [],
   "source": [
    "# 엑셀 파일 불러오기\n",
    "df = pd.read_excel('./영화 목록.xlsx')"
   ]
  },
  {
   "cell_type": "code",
   "execution_count": 3,
   "metadata": {},
   "outputs": [],
   "source": [
    "for col in df.columns:\n",
    "    df[col] = df[col].astype(str)"
   ]
  },
  {
   "cell_type": "code",
   "execution_count": 5,
   "metadata": {},
   "outputs": [],
   "source": [
    "df.columns = [['movie_name', 'director', 'writer', 'story', 'total rating',\n",
    "       'rating number', 'starring', 'top 10 rating',\n",
    "       'top 10 rating comment', 'genre', 'country', 'number of viewer',\n",
    "       'running time', '19']]"
   ]
  },
  {
   "cell_type": "code",
   "execution_count": 6,
   "metadata": {},
   "outputs": [
    {
     "name": "stderr",
     "output_type": "stream",
     "text": [
      "/var/folders/dn/qq5pnzjj1c98r1dbp_pgns1w0000gn/T/ipykernel_67290/996937090.py:8: LangChainDeprecationWarning: The class `ChatOpenAI` was deprecated in LangChain 0.0.10 and will be removed in 1.0. An updated version of the class exists in the :class:`~langchain-openai package and should be used instead. To use it run `pip install -U :class:`~langchain-openai` and import as `from :class:`~langchain_openai import ChatOpenAI``.\n",
      "  ChatOpenAI(temperature=0,\n"
     ]
    }
   ],
   "source": [
    "from langchain_experimental.agents import create_pandas_dataframe_agent\n",
    "from langchain.chat_models import ChatOpenAI\n",
    "from langchain.agents.agent_types import AgentType\n",
    "\n",
    "\n",
    "# 에이전트 생성\n",
    "agent = create_pandas_dataframe_agent(\n",
    "    ChatOpenAI(temperature=0, \n",
    "               model='gpt-4o-mini-2024-07-18'),        # 모델 정의\n",
    "    df,                                    # 데이터프레임\n",
    "    verbose=True,                          # 추론과정 출력\n",
    "    agent_type=AgentType.OPENAI_FUNCTIONS, # AgentType.ZERO_SHOT_REACT_DESCRIPTION\n",
    "    allow_dangerous_code=True,\n",
    ")"
   ]
  },
  {
   "cell_type": "code",
   "execution_count": null,
   "metadata": {},
   "outputs": [],
   "source": [
    "df.columns"
   ]
  },
  {
   "cell_type": "code",
   "execution_count": 7,
   "metadata": {},
   "outputs": [
    {
     "name": "stderr",
     "output_type": "stream",
     "text": [
      "/var/folders/dn/qq5pnzjj1c98r1dbp_pgns1w0000gn/T/ipykernel_67290/1875447125.py:1: LangChainDeprecationWarning: The method `Chain.run` was deprecated in langchain 0.1.0 and will be removed in 1.0. Use :meth:`~invoke` instead.\n",
      "  agent.run('데이터에서  가장 영화제목이 긴 영화가 뭐야')\n"
     ]
    },
    {
     "name": "stdout",
     "output_type": "stream",
     "text": [
      "\n",
      "\n",
      "\u001b[1m> Entering new AgentExecutor chain...\u001b[0m\n",
      "\u001b[32;1m\u001b[1;3m\n",
      "Invoking: `python_repl_ast` with `{'query': \"# 데이터프레임에서 영화 제목이 가장 긴 영화를 찾기\\nlongest_title_movie = df.loc[df[('movie_name',)].str.len().idxmax()]\\nlongest_title_movie\"}`\n",
      "\n",
      "\n",
      "\u001b[0m\u001b[36;1m\u001b[1;3mmovie_name                                                향수 - 어느 살인자의 이야기\n",
      "director                                                            톰 티크베어\n",
      "writer                                            톰 티크베어||베른트 아이힝거||앤드류 버킨\n",
      "story                    18세기 프랑스, 악취나는 생선 시장에서 태어나자마자 고아가 된 천재적인 후각의 소...\n",
      "total rating                                                           3.7\n",
      "rating number                                                     597000.0\n",
      "starring                                              장 바티스트 그루누이||주세페 발디니\n",
      "top 10 rating             4.5||5.0||2.5||0.5||3.5||4.0||4.0||0.5||4.5||5.0\n",
      "top 10 rating comment    아이러니하게도 지금의 우리도 주인공과 다를바없지않은가\\n\\n진정한 자신의 향, 자아...\n",
      "genre                                                           범죄/드라마/스릴러\n",
      "country                                                   독일||프랑스||스페인||미국\n",
      "number of viewer                                                      97.0\n",
      "running time                                                         146.0\n",
      "19                                                                     0.0\n",
      "Name: 25, dtype: object\u001b[0m\u001b[32;1m\u001b[1;3m가장 영화 제목이 긴 영화는 **\"향수 - 어느 살인자의 이야기\"**입니다. \n",
      "\n",
      "- 감독: 톰 티크베어\n",
      "- 작가: 톰 티크베어, 베른트 아이힝거, 앤드류 버킨\n",
      "- 장르: 범죄/드라마/스릴러\n",
      "- 총 평점: 3.7\n",
      "- 평점 수: 597,000\n",
      "- 국가: 독일, 프랑스, 스페인, 미국\n",
      "- 상영 시간: 146분\u001b[0m\n",
      "\n",
      "\u001b[1m> Finished chain.\u001b[0m\n"
     ]
    },
    {
     "data": {
      "text/plain": [
       "'가장 영화 제목이 긴 영화는 **\"향수 - 어느 살인자의 이야기\"**입니다. \\n\\n- 감독: 톰 티크베어\\n- 작가: 톰 티크베어, 베른트 아이힝거, 앤드류 버킨\\n- 장르: 범죄/드라마/스릴러\\n- 총 평점: 3.7\\n- 평점 수: 597,000\\n- 국가: 독일, 프랑스, 스페인, 미국\\n- 상영 시간: 146분'"
      ]
     },
     "execution_count": 7,
     "metadata": {},
     "output_type": "execute_result"
    }
   ],
   "source": [
    "agent.run('데이터에서  가장 영화제목이 긴 영화가 뭐야')"
   ]
  },
  {
   "cell_type": "code",
   "execution_count": 2,
   "metadata": {},
   "outputs": [],
   "source": [
    "df = pd.read_excel('./영화 목록.xlsx')"
   ]
  }
 ],
 "metadata": {
  "kernelspec": {
   "display_name": "my_env",
   "language": "python",
   "name": "python3"
  },
  "language_info": {
   "codemirror_mode": {
    "name": "ipython",
    "version": 3
   },
   "file_extension": ".py",
   "mimetype": "text/x-python",
   "name": "python",
   "nbconvert_exporter": "python",
   "pygments_lexer": "ipython3",
   "version": "3.10.8"
  }
 },
 "nbformat": 4,
 "nbformat_minor": 2
}
