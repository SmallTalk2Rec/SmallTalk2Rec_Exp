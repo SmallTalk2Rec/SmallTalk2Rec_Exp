{
 "cells": [
  {
   "cell_type": "code",
   "execution_count": 16,
   "metadata": {},
   "outputs": [],
   "source": [
    "import pandas as pd\n",
    "\n",
    "df = pd.read_csv(\"../data/movies_sample_cleaned.csv\")"
   ]
  },
  {
   "cell_type": "code",
   "execution_count": 17,
   "metadata": {},
   "outputs": [
    {
     "name": "stdout",
     "output_type": "stream",
     "text": [
      "<class 'pandas.core.frame.DataFrame'>\n",
      "RangeIndex: 34 entries, 0 to 33\n",
      "Data columns (total 13 columns):\n",
      " #   Column         Non-Null Count  Dtype  \n",
      "---  ------         --------------  -----  \n",
      " 0   title          34 non-null     object \n",
      " 1   director       34 non-null     object \n",
      " 2   screenwriter   34 non-null     object \n",
      " 3   plot           34 non-null     object \n",
      " 4   rating         34 non-null     float64\n",
      " 5   rating_count   32 non-null     float64\n",
      " 6   actors         34 non-null     object \n",
      " 7   comment_texts  34 non-null     object \n",
      " 8   genres         34 non-null     object \n",
      " 9   countries      34 non-null     object \n",
      " 10  audience       32 non-null     float64\n",
      " 11  running_time   33 non-null     float64\n",
      " 12  adult          33 non-null     float64\n",
      "dtypes: float64(5), object(8)\n",
      "memory usage: 3.6+ KB\n"
     ]
    }
   ],
   "source": [
    "df.info()"
   ]
  },
  {
   "cell_type": "markdown",
   "metadata": {},
   "source": [
    "### null 제거"
   ]
  },
  {
   "cell_type": "code",
   "execution_count": 3,
   "metadata": {},
   "outputs": [],
   "source": [
    "df = df.dropna(subset=[\"영화 감독\"])"
   ]
  },
  {
   "cell_type": "markdown",
   "metadata": {},
   "source": [
    "### column 이름 변경"
   ]
  },
  {
   "cell_type": "code",
   "execution_count": 4,
   "metadata": {},
   "outputs": [],
   "source": [
    "df = df.rename(\n",
    "    columns={\n",
    "        \"영화제목\": \"title\", \n",
    "        \"영화 감독\": \"director\", \n",
    "        \"각본(|| parser)\": \"screenwriter\",\n",
    "        \"왓챠 줄거리\": \"plot\", \n",
    "        \"왓챠피디아 평점\": \"rating\", \n",
    "        \"왓챠피디아 평점 수 (명)\": \"rating_count\",\n",
    "        \"주연 (|| parser)\": \"actors\",\n",
    "        \"코멘트 10개 평점 (|| parser)\": \"comment_ratings\",\n",
    "        \"코멘트 10개 멘트 (|| parser)\": \"comment_texts\",\n",
    "        \"장르\": \"genres\",\n",
    "        \"제작 국가(|| parser)\": \"countries\",\n",
    "        \"네이버 누적 관객 수(만명)\": \"audience\",\n",
    "        \"네이버 러닝 타임(분)\": \"running_time\",\n",
    "        \"네이버 19세 여부 (1 or 0)\": \"adult\",\n",
    "    }\n",
    ")"
   ]
  },
  {
   "cell_type": "markdown",
   "metadata": {},
   "source": [
    "### 필요없는 컬럼 삭제"
   ]
  },
  {
   "cell_type": "code",
   "execution_count": 5,
   "metadata": {},
   "outputs": [],
   "source": [
    "df = df.drop(columns=[\"comment_ratings\"])"
   ]
  },
  {
   "cell_type": "markdown",
   "metadata": {},
   "source": [
    "### object column fillna"
   ]
  },
  {
   "cell_type": "code",
   "execution_count": 6,
   "metadata": {},
   "outputs": [],
   "source": [
    "object_columns = df.select_dtypes(include=\"object\").columns"
   ]
  },
  {
   "cell_type": "code",
   "execution_count": 7,
   "metadata": {},
   "outputs": [],
   "source": [
    "df[object_columns] = df[object_columns].fillna(\"\")"
   ]
  },
  {
   "cell_type": "markdown",
   "metadata": {},
   "source": [
    "### || 구분자로 되어 있는 것들 split"
   ]
  },
  {
   "cell_type": "code",
   "execution_count": 8,
   "metadata": {},
   "outputs": [],
   "source": [
    "for col in [\"director\", \"screenwriter\", \"actors\", \"genres\", \"countries\", \"comment_texts\"]:\n",
    "    if col == \"genres\":\n",
    "        df[col] = df[col].apply(lambda x: x.split(\"/\"))\n",
    "    else:\n",
    "        df[col] = df[col].apply(lambda x: x.split(\"||\"))"
   ]
  },
  {
   "cell_type": "code",
   "execution_count": 9,
   "metadata": {},
   "outputs": [
    {
     "data": {
      "text/html": [
       "<div>\n",
       "<style scoped>\n",
       "    .dataframe tbody tr th:only-of-type {\n",
       "        vertical-align: middle;\n",
       "    }\n",
       "\n",
       "    .dataframe tbody tr th {\n",
       "        vertical-align: top;\n",
       "    }\n",
       "\n",
       "    .dataframe thead th {\n",
       "        text-align: right;\n",
       "    }\n",
       "</style>\n",
       "<table border=\"1\" class=\"dataframe\">\n",
       "  <thead>\n",
       "    <tr style=\"text-align: right;\">\n",
       "      <th></th>\n",
       "      <th>title</th>\n",
       "      <th>director</th>\n",
       "      <th>screenwriter</th>\n",
       "      <th>plot</th>\n",
       "      <th>rating</th>\n",
       "      <th>rating_count</th>\n",
       "      <th>actors</th>\n",
       "      <th>comment_texts</th>\n",
       "      <th>genres</th>\n",
       "      <th>countries</th>\n",
       "      <th>audience</th>\n",
       "      <th>running_time</th>\n",
       "      <th>adult</th>\n",
       "    </tr>\n",
       "  </thead>\n",
       "  <tbody>\n",
       "    <tr>\n",
       "      <th>0</th>\n",
       "      <td>월플라워</td>\n",
       "      <td>[스티븐 크보스키]</td>\n",
       "      <td>[스티븐 크보스키]</td>\n",
       "      <td>말 못할 트라우마를 가지고 자신만의 세계에 갇혀있던 ‘찰리’는 고등학교 신입생이 돼...</td>\n",
       "      <td>3.8</td>\n",
       "      <td>305000.0</td>\n",
       "      <td>[에즈라 밀러, 로건 메먼, 엠마 왓슨]</td>\n",
       "      <td>[그 터널을 무사히 빠져나온 모두에게, 사람은 자신의 크기에 맞는 사랑을 한다, 샘...</td>\n",
       "      <td>[드라마, 로맨스]</td>\n",
       "      <td>[미국]</td>\n",
       "      <td>1.7</td>\n",
       "      <td>102.0</td>\n",
       "      <td>0.0</td>\n",
       "    </tr>\n",
       "    <tr>\n",
       "      <th>1</th>\n",
       "      <td>기생충</td>\n",
       "      <td>[봉준호]</td>\n",
       "      <td>[봉준호, 한진원]</td>\n",
       "      <td>“폐 끼치고 싶진 않았어요” 전원백수로 살 길 막막하지만 사이는 좋은 기택(송강호)...</td>\n",
       "      <td>4.3</td>\n",
       "      <td>1265000.0</td>\n",
       "      <td>[박소담, 송강호, 조여정, 최우식, 이선균, 장혜진, 이정은]</td>\n",
       "      <td>[황금종려상 받은 영화를 자막없이 볼 수 있는 행복 190529, 상승과 하강으로 ...</td>\n",
       "      <td>[드라마]</td>\n",
       "      <td>[한국]</td>\n",
       "      <td>1031.0</td>\n",
       "      <td>131.0</td>\n",
       "      <td>0.0</td>\n",
       "    </tr>\n",
       "    <tr>\n",
       "      <th>2</th>\n",
       "      <td>메멘토</td>\n",
       "      <td>[크리스토퍼 놀란]</td>\n",
       "      <td>[크리스토퍼 놀란]</td>\n",
       "      <td>아내가 살해당한 후, 10분밖에 기억 못하는 단기기억상실증에 걸린 남자가 사진, 메...</td>\n",
       "      <td>4.1</td>\n",
       "      <td>641000.0</td>\n",
       "      <td>[조 판톨리아노, 가이 피어스, 캐리 앤 모스]</td>\n",
       "      <td>[사람은 보고싶은 것만 보고 듣고싶은 것만 듣고 믿고 싶은 것만 믿고 기억하고 싶은...</td>\n",
       "      <td>[미스터리, 스릴러]</td>\n",
       "      <td>[미국]</td>\n",
       "      <td>19.0</td>\n",
       "      <td>113.0</td>\n",
       "      <td>0.0</td>\n",
       "    </tr>\n",
       "    <tr>\n",
       "      <th>3</th>\n",
       "      <td>노인을 위한 나라는 없다</td>\n",
       "      <td>[에단 코엔, 조엘 코엔]</td>\n",
       "      <td>[에단 코엔, 조엘 코엔]</td>\n",
       "      <td>르웰린 모스(조쉬 브롤린)는 총격전이 벌어진 끔찍한 현장에서 우연히 이백만 달러가 ...</td>\n",
       "      <td>4.0</td>\n",
       "      <td>349000.0</td>\n",
       "      <td>[토미 리 존스, 하비에르 바르뎀, 조쉬 브롤린]</td>\n",
       "      <td>[그거 아세요? 이 영화에는 배경음악이 단 일초도 쓰이지 않았다는것, 피튀기는 젊은...</td>\n",
       "      <td>[범죄, 드라마, 스릴러]</td>\n",
       "      <td>[미국]</td>\n",
       "      <td>9.0</td>\n",
       "      <td>122.0</td>\n",
       "      <td>1.0</td>\n",
       "    </tr>\n",
       "    <tr>\n",
       "      <th>4</th>\n",
       "      <td>파이트 클럽</td>\n",
       "      <td>[데이비드 핀처]</td>\n",
       "      <td>[짐 유힐]</td>\n",
       "      <td>당신이 알고 있는 모든 것은 허구다! 비싼 가구들로 집 안을 채우지만 삶에 강한 공...</td>\n",
       "      <td>4.1</td>\n",
       "      <td>371000.0</td>\n",
       "      <td>[브래드 피트, 에드워드 노튼, 헬레나 본햄 카터]</td>\n",
       "      <td>[현대문명의 허상을 조롱하는 통렬한 블랙코미디., 영화 자체가 섹시하다, 아주 많은...</td>\n",
       "      <td>[드라마, 액션]</td>\n",
       "      <td>[미국, 독일, 이탈리아]</td>\n",
       "      <td>NaN</td>\n",
       "      <td>139.0</td>\n",
       "      <td>1.0</td>\n",
       "    </tr>\n",
       "  </tbody>\n",
       "</table>\n",
       "</div>"
      ],
      "text/plain": [
       "           title        director    screenwriter  \\\n",
       "0           월플라워      [스티븐 크보스키]      [스티븐 크보스키]   \n",
       "1            기생충           [봉준호]      [봉준호, 한진원]   \n",
       "2            메멘토      [크리스토퍼 놀란]      [크리스토퍼 놀란]   \n",
       "3  노인을 위한 나라는 없다  [에단 코엔, 조엘 코엔]  [에단 코엔, 조엘 코엔]   \n",
       "4         파이트 클럽       [데이비드 핀처]          [짐 유힐]   \n",
       "\n",
       "                                                plot  rating  rating_count  \\\n",
       "0  말 못할 트라우마를 가지고 자신만의 세계에 갇혀있던 ‘찰리’는 고등학교 신입생이 돼...     3.8      305000.0   \n",
       "1  “폐 끼치고 싶진 않았어요” 전원백수로 살 길 막막하지만 사이는 좋은 기택(송강호)...     4.3     1265000.0   \n",
       "2  아내가 살해당한 후, 10분밖에 기억 못하는 단기기억상실증에 걸린 남자가 사진, 메...     4.1      641000.0   \n",
       "3  르웰린 모스(조쉬 브롤린)는 총격전이 벌어진 끔찍한 현장에서 우연히 이백만 달러가 ...     4.0      349000.0   \n",
       "4  당신이 알고 있는 모든 것은 허구다! 비싼 가구들로 집 안을 채우지만 삶에 강한 공...     4.1      371000.0   \n",
       "\n",
       "                                actors  \\\n",
       "0               [에즈라 밀러, 로건 메먼, 엠마 왓슨]   \n",
       "1  [박소담, 송강호, 조여정, 최우식, 이선균, 장혜진, 이정은]   \n",
       "2           [조 판톨리아노, 가이 피어스, 캐리 앤 모스]   \n",
       "3          [토미 리 존스, 하비에르 바르뎀, 조쉬 브롤린]   \n",
       "4         [브래드 피트, 에드워드 노튼, 헬레나 본햄 카터]   \n",
       "\n",
       "                                       comment_texts          genres  \\\n",
       "0  [그 터널을 무사히 빠져나온 모두에게, 사람은 자신의 크기에 맞는 사랑을 한다, 샘...      [드라마, 로맨스]   \n",
       "1  [황금종려상 받은 영화를 자막없이 볼 수 있는 행복 190529, 상승과 하강으로 ...           [드라마]   \n",
       "2  [사람은 보고싶은 것만 보고 듣고싶은 것만 듣고 믿고 싶은 것만 믿고 기억하고 싶은...     [미스터리, 스릴러]   \n",
       "3  [그거 아세요? 이 영화에는 배경음악이 단 일초도 쓰이지 않았다는것, 피튀기는 젊은...  [범죄, 드라마, 스릴러]   \n",
       "4  [현대문명의 허상을 조롱하는 통렬한 블랙코미디., 영화 자체가 섹시하다, 아주 많은...       [드라마, 액션]   \n",
       "\n",
       "        countries  audience  running_time  adult  \n",
       "0            [미국]       1.7         102.0    0.0  \n",
       "1            [한국]    1031.0         131.0    0.0  \n",
       "2            [미국]      19.0         113.0    0.0  \n",
       "3            [미국]       9.0         122.0    1.0  \n",
       "4  [미국, 독일, 이탈리아]       NaN         139.0    1.0  "
      ]
     },
     "execution_count": 9,
     "metadata": {},
     "output_type": "execute_result"
    }
   ],
   "source": [
    "df.head()"
   ]
  },
  {
   "cell_type": "code",
   "execution_count": 10,
   "metadata": {},
   "outputs": [
    {
     "data": {
      "text/plain": [
       "Index(['title', 'director', 'screenwriter', 'plot', 'rating', 'rating_count',\n",
       "       'actors', 'comment_texts', 'genres', 'countries', 'audience',\n",
       "       'running_time', 'adult'],\n",
       "      dtype='object')"
      ]
     },
     "execution_count": 10,
     "metadata": {},
     "output_type": "execute_result"
    }
   ],
   "source": [
    "df.columns"
   ]
  },
  {
   "cell_type": "code",
   "execution_count": 11,
   "metadata": {},
   "outputs": [],
   "source": [
    "df.to_csv(\"../data/movies_sample_cleaned.csv\", index=False)"
   ]
  }
 ],
 "metadata": {
  "kernelspec": {
   "display_name": "smalltalk2rec-env",
   "language": "python",
   "name": "python3"
  },
  "language_info": {
   "codemirror_mode": {
    "name": "ipython",
    "version": 3
   },
   "file_extension": ".py",
   "mimetype": "text/x-python",
   "name": "python",
   "nbconvert_exporter": "python",
   "pygments_lexer": "ipython3",
   "version": "3.10.15"
  }
 },
 "nbformat": 4,
 "nbformat_minor": 2
}
