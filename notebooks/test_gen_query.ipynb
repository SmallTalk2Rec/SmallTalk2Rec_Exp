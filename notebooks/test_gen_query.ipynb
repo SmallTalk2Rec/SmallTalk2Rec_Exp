{
 "cells": [
  {
   "cell_type": "code",
   "execution_count": 2,
   "metadata": {},
   "outputs": [],
   "source": [
    "from langchain_core.prompts import ChatPromptTemplate\n",
    "from langchain_core.output_parsers.string import StrOutputParser\n",
    "import sys\n",
    "sys.path.append('../src/')\n",
    "from chain.model import llm\n",
    "\n",
    "SYSTEM_TEMPLATE = \"\"\"You are an AI assistant specialized in generating database queries for a movie recommendation system.\"\"\"\n",
    "\n",
    "USER_TEMPLATE = \"\"\"<Instruction>\n",
    "Please create a three types of query to retrieve the necessary information from the movie data to answer the User's query.\n",
    "Three types of queries:\n",
    "    1. SQL query for structured \"movie\" table.\n",
    "    2. Vector DB query for movie plot summary.\n",
    "    3. Vector DB query for movie reviews.\n",
    "</Instruction>\n",
    "\n",
    "<SQL_query>\n",
    "    <movie_table_description>\n",
    "    The \"movie\" table contains data on various movies, including metadata such as director, screenwriter, plot, and ratings.\n",
    "    </movie_table_description>\n",
    "    <Description_of_Each_Column_in_the_Movie_Table>\n",
    "    title: The title of the movie. (TEXT)\n",
    "    director: A list of the movie's directors. (LIST)\n",
    "    screenwriter: A list of the movie's screenwriters. (LIST)\n",
    "    plot: A short summary of the movie's plot. (TEXT)\n",
    "    rating: The average rating given to the movie. Range 0.0 ~ 5.0 (FLOAT)\n",
    "    rating_count: The total number of ratings the movie has received. (FLOAT)\n",
    "    actors: A list of the movie's main actors. (LIST)\n",
    "    genres: A list of the genres. (LIST)\n",
    "    countries: A list of the countries where the movie was produced. (LIST)\n",
    "    audience: Cumulative audience (FLOAT)\n",
    "    running_time: The running time of the movie in minutes. (FLOAT)\n",
    "    adult: A flag indicating whether the movie is for adults only (1.0 for true, 0.0 for false). (FLOAT)\n",
    "    </Description_of_Each_Column_in_the_Movie_Table>\n",
    "</SQL_query>\n",
    "\n",
    "<User_query>\n",
    "{query}\n",
    "</User_query>\n",
    "\n",
    "<Response_Format>\n",
    "{{\n",
    "    \"sql_query\": SQL query for structured \"movie\" table,\n",
    "    \"vector_db_query_plot\": Vector DB query in korean for movie plot summary,\n",
    "    \"vector_db_query_reviews\": Vector DB query in korean for movie reviews\n",
    "}}\n",
    "</Response_Format>\n",
    "\"\"\"\n",
    "\n",
    "\n",
    "prompt = ChatPromptTemplate.from_messages(\n",
    "    [\n",
    "        (\"system\", SYSTEM_TEMPLATE),\n",
    "        (\"user\", USER_TEMPLATE),\n",
    "    ]\n",
    ")\n",
    "\n",
    "\n",
    "generate_sql_query_chain = prompt | llm | StrOutputParser()\n"
   ]
  },
  {
   "cell_type": "code",
   "execution_count": 3,
   "metadata": {},
   "outputs": [],
   "source": [
    "res = generate_sql_query_chain.invoke(\"평점이 높은 영화 중에서 미국 대학생들의 스토리가 담긴 영화를 추천해줘\")"
   ]
  },
  {
   "cell_type": "code",
   "execution_count": 4,
   "metadata": {},
   "outputs": [
    {
     "name": "stdout",
     "output_type": "stream",
     "text": [
      "{\n",
      "    \"sql_query\": \"SELECT title, director, screenwriter, plot, rating, rating_count FROM movie WHERE rating >= 4.0 AND plot LIKE '%대학생%';\",\n",
      "    \"vector_db_query_plot\": \"미국 대학생들의 이야기가 담긴 영화의 줄거리 요약을 검색해 주세요.\",\n",
      "    \"vector_db_query_reviews\": \"미국 대학생들의 스토리가 포함된 영화에 대한 리뷰를 검색해 주세요.\"\n",
      "}\n"
     ]
    }
   ],
   "source": [
    "print(res)"
   ]
  }
 ],
 "metadata": {
  "kernelspec": {
   "display_name": "smalltalk2rec-env",
   "language": "python",
   "name": "python3"
  },
  "language_info": {
   "codemirror_mode": {
    "name": "ipython",
    "version": 3
   },
   "file_extension": ".py",
   "mimetype": "text/x-python",
   "name": "python",
   "nbconvert_exporter": "python",
   "pygments_lexer": "ipython3",
   "version": "3.10.15"
  }
 },
 "nbformat": 4,
 "nbformat_minor": 2
}
