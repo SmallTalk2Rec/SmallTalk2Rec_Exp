{
 "cells": [
  {
   "cell_type": "code",
   "execution_count": 79,
   "metadata": {},
   "outputs": [],
   "source": [
    "import requests\n",
    "from bs4 import BeautifulSoup\n",
    "from lxml import etree\n",
    "\n",
    "# 스크래핑할 URL\n",
    "url = 'https://pedia.watcha.com/ko-KR/contents/mdRL4eL'\n",
    "\n",
    "# 페이지 가져오기\n",
    "response = requests.get(url)\n",
    "\n",
    "# 페이지 상태 확인\n",
    "if response.status_code == 200:\n",
    "    # BeautifulSoup을 사용해 HTML 파싱\n",
    "    soup = BeautifulSoup(response.content, 'lxml')\n",
    "    \n",
    "    # lxml의 etree를 사용하여 XPath 지원\n",
    "    dom = etree.HTML(str(soup))\n",
    "    \n",
    "    # 영화 제목\n",
    "    title_xpath = '//*[@id=\"root\"]/div[1]/section/div/div[2]/div/div/div[1]/div[2]/div/h1'\n",
    "    title = dom.xpath(title_xpath)[0].text\n",
    "\n",
    "    # 평균평점\n",
    "    average_rating_xpath = '//*[@id=\"root\"]/div[1]/section/div/div[2]/div/div/div[2]/section[1]/div[2]/section[1]/div[2]/div/div[1]'\n",
    "    average_rating = dom.xpath(average_rating_xpath)[0].text\n",
    "\n",
    "    # 평균평점수\n",
    "    average_rating_n_xpath = '//*[@id=\"root\"]/div[1]/section/div/div[2]/div/div/div[2]/section[1]/div[2]/section[1]/div[2]/div/div[2]/text()[2]'\n",
    "    average_rating_n = dom.xpath(average_rating_n_xpath)[0]\n",
    "\n",
    "    # 내용소개\n",
    "    synopsis_xpath = '//*[@id=\"root\"]/div[1]/section/div/div[2]/div/div/div[2]/section[1]/div[2]/section[2]/p'\n",
    "    synopsis = dom.xpath(synopsis_xpath)[0].text\n",
    "\n",
    "    # \n",
    "\n",
    "\n",
    "else:\n",
    "    print(f\"페이지를 가져오는 데 실패했습니다. 상태 코드: {response.status_code}\")\n"
   ]
  },
  {
   "cell_type": "code",
   "execution_count": 118,
   "metadata": {},
   "outputs": [
    {
     "data": {
      "text/plain": [
       "'코멘트'"
      ]
     },
     "execution_count": 118,
     "metadata": {},
     "output_type": "execute_result"
    }
   ],
   "source": [
    "people_information_xpath = '//*[@id=\"root\"]/div[1]/section/div/div[2]/section/section[2]/header/h2'\n",
    "dom.xpath(people_information_xpath)[0].text"
   ]
  },
  {
   "cell_type": "code",
   "execution_count": 95,
   "metadata": {},
   "outputs": [],
   "source": [
    "director_div = soup.find('div', {'class': 'VS7s8K2n eWROwSpQ'})"
   ]
  },
  {
   "cell_type": "code",
   "execution_count": 114,
   "metadata": {},
   "outputs": [
    {
     "data": {
      "text/plain": [
       "[]"
      ]
     },
     "execution_count": 114,
     "metadata": {},
     "output_type": "execute_result"
    }
   ],
   "source": [
    "soup.select('#content_credits > section > div.k5kUDMbG.listWrapper > ul > li:nth-child(1) > a')"
   ]
  },
  {
   "cell_type": "code",
   "execution_count": null,
   "metadata": {},
   "outputs": [],
   "source": []
  },
  {
   "cell_type": "code",
   "execution_count": null,
   "metadata": {},
   "outputs": [],
   "source": []
  },
  {
   "cell_type": "code",
   "execution_count": null,
   "metadata": {},
   "outputs": [],
   "source": []
  },
  {
   "cell_type": "code",
   "execution_count": null,
   "metadata": {},
   "outputs": [],
   "source": []
  },
  {
   "cell_type": "code",
   "execution_count": 2,
   "metadata": {},
   "outputs": [],
   "source": [
    "# !pip install selenium\n",
    "# !pip install webdriver-manager"
   ]
  },
  {
   "cell_type": "code",
   "execution_count": 97,
   "metadata": {},
   "outputs": [],
   "source": [
    "from selenium import webdriver\n",
    "from selenium.webdriver.common.by import By\n",
    "from selenium.webdriver.chrome.service import Service\n",
    "from webdriver_manager.chrome import ChromeDriverManager\n",
    "from selenium.webdriver.chrome.options import Options\n",
    "\n",
    "\n",
    "chrome_options = Options()\n",
    "chrome_options = Options()\n",
    "chrome_options.add_argument('--headless')  # 헤드리스 모드\n",
    "chrome_options.add_argument('--disable-gpu')  # GPU 비활성화\n",
    "chrome_options.add_argument('--no-sandbox')\n",
    "chrome_options.add_argument('--disable-dev-shm-usage')\n",
    "chrome_options.add_argument('--disable-extensions')  # 확장 프로그램 비활성화\n",
    "chrome_options.add_argument('--disable-images')  # 이미지 로드 안함\n",
    "chrome_options.add_experimental_option(\"prefs\", {\n",
    "    \"profile.managed_default_content_settings.images\": 2,  # 이미지 비활성화\n",
    "    \"profile.default_content_setting_values.notifications\": 2,  # 알림 비활성화\n",
    "    \"profile.default_content_setting_values.media_stream\": 2,  # 미디어 스트림 비활성화\n",
    "})\n",
    "chrome_options.add_argument('--disable-css')  # CSS 비활성화\n",
    "chrome_options.add_argument('--disable-fonts')  # 폰트 비활성화\n",
    "chrome_options.add_argument('--ignore-ssl-errors=yes')\n",
    "chrome_options.add_argument('--ignore-certificate-errors')\n",
    "chrome_options.add_argument('--no-sandbox')\n",
    "chrome_options.add_argument('--log-level=3')\n",
    "chrome_options.add_argument('--incognito')\n",
    "\n",
    "# Chrome 드라이버를 자동으로 설정\n",
    "service = Service(ChromeDriverManager().install())\n",
    "\n",
    "# Chrome 드라이버 로드\n",
    "driver = webdriver.Chrome(service=service, options=chrome_options)"
   ]
  },
  {
   "cell_type": "code",
   "execution_count": 98,
   "metadata": {},
   "outputs": [],
   "source": [
    "# 왓챠피디아 기생충 url\n",
    "url = 'https://pedia.watcha.com/ko-KR/contents/mdRL4eL'\n",
    "driver.get(url)"
   ]
  },
  {
   "cell_type": "code",
   "execution_count": 103,
   "metadata": {},
   "outputs": [
    {
     "data": {
      "text/plain": [
       "''"
      ]
     },
     "execution_count": 103,
     "metadata": {},
     "output_type": "execute_result"
    }
   ],
   "source": [
    "director_xpath = '//*[@id=\"content_credits\"]/section/div[1]/ul/li[1]/a'\n",
    "director_element = driver.find_element(By.XPATH, director_xpath)\n",
    "director_element.text"
   ]
  },
  {
   "cell_type": "code",
   "execution_count": 12,
   "metadata": {},
   "outputs": [],
   "source": [
    "# 브라우저 닫기\n",
    "driver.quit()"
   ]
  }
 ],
 "metadata": {
  "kernelspec": {
   "display_name": "OCR_env",
   "language": "python",
   "name": "python3"
  },
  "language_info": {
   "codemirror_mode": {
    "name": "ipython",
    "version": 3
   },
   "file_extension": ".py",
   "mimetype": "text/x-python",
   "name": "python",
   "nbconvert_exporter": "python",
   "pygments_lexer": "ipython3",
   "version": "3.10.14"
  }
 },
 "nbformat": 4,
 "nbformat_minor": 2
}
